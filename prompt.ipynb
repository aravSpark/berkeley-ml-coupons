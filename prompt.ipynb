{
  "cells": [
    {
      "cell_type": "markdown",
      "metadata": {
        "id": "CcUT6Fon_qRE"
      },
      "source": [
        "### Required Assignment 5.1: Will the Customer Accept the Coupon?\n",
        "\n",
        "**Context**\n",
        "\n",
        "Imagine driving through town and a coupon is delivered to your cell phone for a restaurant near where you are driving. Would you accept that coupon and take a short detour to the restaurant? Would you accept the coupon but use it on a subsequent trip? Would you ignore the coupon entirely? What if the coupon was for a bar instead of a restaurant? What about a coffee house? Would you accept a bar coupon with a minor passenger in the car? What about if it was just you and your partner in the car? Would weather impact the rate of acceptance? What about the time of day?\n",
        "\n",
        "Obviously, proximity to the business is a factor on whether the coupon is delivered to the driver or not, but what are the factors that determine whether a driver accepts the coupon once it is delivered to them? How would you determine whether a driver is likely to accept a coupon?\n",
        "\n",
        "**Overview**\n",
        "\n",
        "The goal of this project is to use what you know about visualizations and probability distributions to distinguish between customers who accepted a driving coupon versus those that did not.\n",
        "\n",
        "**Data**\n",
        "\n",
        "This data comes to us from the UCI Machine Learning repository and was collected via a survey on Amazon Mechanical Turk. The survey describes different driving scenarios including the destination, current time, weather, passenger, etc., and then ask the person whether he will accept the coupon if he is the driver. Answers that the user will drive there ‘right away’ or ‘later before the coupon expires’ are labeled as ‘Y = 1’ and answers ‘no, I do not want the coupon’ are labeled as ‘Y = 0’.  There are five different types of coupons -- less expensive restaurants (under \\$20), coffee houses, carry out & take away, bar, and more expensive restaurants (\\$20 - $50)."
      ]
    },
    {
      "cell_type": "markdown",
      "metadata": {
        "id": "1wORvMBJ_qRF"
      },
      "source": [
        "**Deliverables**\n",
        "\n",
        "Your final product should be a brief report that highlights the differences between customers who did and did not accept the coupons.  To explore the data you will utilize your knowledge of plotting, statistical summaries, and visualization using Python. You will publish your findings in a public facing github repository as your first portfolio piece.\n",
        "\n",
        "\n",
        "\n"
      ]
    },
    {
      "cell_type": "markdown",
      "metadata": {
        "id": "pG6_Ym6q_qRG"
      },
      "source": [
        "### Data Description\n",
        "Keep in mind that these values mentioned below are average values.\n",
        "\n",
        "The attributes of this data set include:\n",
        "1. User attributes\n",
        "    -  Gender: male, female\n",
        "    -  Age: below 21, 21 to 25, 26 to 30, etc.\n",
        "    -  Marital Status: single, married partner, unmarried partner, or widowed\n",
        "    -  Number of children: 0, 1, or more than 1\n",
        "    -  Education: high school, bachelors degree, associates degree, or graduate degree\n",
        "    -  Occupation: architecture & engineering, business & financial, etc.\n",
        "    -  Annual income: less than \\\\$12500, \\\\$12500 - \\\\$24999, \\\\$25000 - \\\\$37499, etc.\n",
        "    -  Number of times that he/she goes to a bar: 0, less than 1, 1 to 3, 4 to 8 or greater than 8\n",
        "    -  Number of times that he/she buys takeaway food: 0, less than 1, 1 to 3, 4 to 8 or greater\n",
        "    than 8\n",
        "    -  Number of times that he/she goes to a coffee house: 0, less than 1, 1 to 3, 4 to 8 or\n",
        "    greater than 8\n",
        "    -  Number of times that he/she eats at a restaurant with average expense less than \\\\$20 per\n",
        "    person: 0, less than 1, 1 to 3, 4 to 8 or greater than 8\n",
        "    -  Number of times that he/she goes to a bar: 0, less than 1, 1 to 3, 4 to 8 or greater than 8\n",
        "    \n",
        "\n",
        "2. Contextual attributes\n",
        "    - Driving destination: home, work, or no urgent destination\n",
        "    - Location of user, coupon and destination: we provide a map to show the geographical\n",
        "    location of the user, destination, and the venue, and we mark the distance between each\n",
        "    two places with time of driving. The user can see whether the venue is in the same\n",
        "    direction as the destination.\n",
        "    - Weather: sunny, rainy, or snowy\n",
        "    - Temperature: 30F, 55F, or 80F\n",
        "    - Time: 10AM, 2PM, or 6PM\n",
        "    - Passenger: alone, partner, kid(s), or friend(s)\n",
        "\n",
        "\n",
        "3. Coupon attributes\n",
        "    - time before it expires: 2 hours or one day"
      ]
    },
    {
      "cell_type": "code",
      "execution_count": 60,
      "metadata": {
        "id": "dzNoP3o__qRG"
      },
      "outputs": [],
      "source": [
        "import pandas as pd\n",
        "import numpy as np\n",
        "import matplotlib.pyplot as plt\n",
        "import seaborn as sns\n",
        "import plotly.express as px\n",
        "from plotly.subplots import make_subplots\n",
        "import plotly.graph_objects as go"
      ]
    },
    {
      "cell_type": "markdown",
      "metadata": {
        "id": "Ct8pI1uE_qRG"
      },
      "source": [
        "### Problems\n",
        "\n",
        "Use the prompts below to get started with your data analysis.  \n",
        "\n",
        "1. Read in the `coupons.csv` file.\n",
        "\n",
        "\n"
      ]
    },
    {
      "cell_type": "code",
      "execution_count": 61,
      "metadata": {
        "id": "X0vbffYg_qRH"
      },
      "outputs": [
        {
          "data": {
            "text/html": [
              "<div>\n",
              "<style scoped>\n",
              "    .dataframe tbody tr th:only-of-type {\n",
              "        vertical-align: middle;\n",
              "    }\n",
              "\n",
              "    .dataframe tbody tr th {\n",
              "        vertical-align: top;\n",
              "    }\n",
              "\n",
              "    .dataframe thead th {\n",
              "        text-align: right;\n",
              "    }\n",
              "</style>\n",
              "<table border=\"1\" class=\"dataframe\">\n",
              "  <thead>\n",
              "    <tr style=\"text-align: right;\">\n",
              "      <th></th>\n",
              "      <th>destination</th>\n",
              "      <th>passanger</th>\n",
              "      <th>weather</th>\n",
              "      <th>temperature</th>\n",
              "      <th>time</th>\n",
              "      <th>coupon</th>\n",
              "      <th>expiration</th>\n",
              "      <th>gender</th>\n",
              "      <th>age</th>\n",
              "      <th>maritalStatus</th>\n",
              "      <th>...</th>\n",
              "      <th>CoffeeHouse</th>\n",
              "      <th>CarryAway</th>\n",
              "      <th>RestaurantLessThan20</th>\n",
              "      <th>Restaurant20To50</th>\n",
              "      <th>toCoupon_GEQ5min</th>\n",
              "      <th>toCoupon_GEQ15min</th>\n",
              "      <th>toCoupon_GEQ25min</th>\n",
              "      <th>direction_same</th>\n",
              "      <th>direction_opp</th>\n",
              "      <th>Y</th>\n",
              "    </tr>\n",
              "  </thead>\n",
              "  <tbody>\n",
              "    <tr>\n",
              "      <th>0</th>\n",
              "      <td>No Urgent Place</td>\n",
              "      <td>Alone</td>\n",
              "      <td>Sunny</td>\n",
              "      <td>55</td>\n",
              "      <td>2PM</td>\n",
              "      <td>Restaurant(&lt;20)</td>\n",
              "      <td>1d</td>\n",
              "      <td>Female</td>\n",
              "      <td>21</td>\n",
              "      <td>Unmarried partner</td>\n",
              "      <td>...</td>\n",
              "      <td>never</td>\n",
              "      <td>NaN</td>\n",
              "      <td>4~8</td>\n",
              "      <td>1~3</td>\n",
              "      <td>1</td>\n",
              "      <td>0</td>\n",
              "      <td>0</td>\n",
              "      <td>0</td>\n",
              "      <td>1</td>\n",
              "      <td>1</td>\n",
              "    </tr>\n",
              "    <tr>\n",
              "      <th>1</th>\n",
              "      <td>No Urgent Place</td>\n",
              "      <td>Friend(s)</td>\n",
              "      <td>Sunny</td>\n",
              "      <td>80</td>\n",
              "      <td>10AM</td>\n",
              "      <td>Coffee House</td>\n",
              "      <td>2h</td>\n",
              "      <td>Female</td>\n",
              "      <td>21</td>\n",
              "      <td>Unmarried partner</td>\n",
              "      <td>...</td>\n",
              "      <td>never</td>\n",
              "      <td>NaN</td>\n",
              "      <td>4~8</td>\n",
              "      <td>1~3</td>\n",
              "      <td>1</td>\n",
              "      <td>0</td>\n",
              "      <td>0</td>\n",
              "      <td>0</td>\n",
              "      <td>1</td>\n",
              "      <td>0</td>\n",
              "    </tr>\n",
              "    <tr>\n",
              "      <th>2</th>\n",
              "      <td>No Urgent Place</td>\n",
              "      <td>Friend(s)</td>\n",
              "      <td>Sunny</td>\n",
              "      <td>80</td>\n",
              "      <td>10AM</td>\n",
              "      <td>Carry out &amp; Take away</td>\n",
              "      <td>2h</td>\n",
              "      <td>Female</td>\n",
              "      <td>21</td>\n",
              "      <td>Unmarried partner</td>\n",
              "      <td>...</td>\n",
              "      <td>never</td>\n",
              "      <td>NaN</td>\n",
              "      <td>4~8</td>\n",
              "      <td>1~3</td>\n",
              "      <td>1</td>\n",
              "      <td>1</td>\n",
              "      <td>0</td>\n",
              "      <td>0</td>\n",
              "      <td>1</td>\n",
              "      <td>1</td>\n",
              "    </tr>\n",
              "    <tr>\n",
              "      <th>3</th>\n",
              "      <td>No Urgent Place</td>\n",
              "      <td>Friend(s)</td>\n",
              "      <td>Sunny</td>\n",
              "      <td>80</td>\n",
              "      <td>2PM</td>\n",
              "      <td>Coffee House</td>\n",
              "      <td>2h</td>\n",
              "      <td>Female</td>\n",
              "      <td>21</td>\n",
              "      <td>Unmarried partner</td>\n",
              "      <td>...</td>\n",
              "      <td>never</td>\n",
              "      <td>NaN</td>\n",
              "      <td>4~8</td>\n",
              "      <td>1~3</td>\n",
              "      <td>1</td>\n",
              "      <td>1</td>\n",
              "      <td>0</td>\n",
              "      <td>0</td>\n",
              "      <td>1</td>\n",
              "      <td>0</td>\n",
              "    </tr>\n",
              "    <tr>\n",
              "      <th>4</th>\n",
              "      <td>No Urgent Place</td>\n",
              "      <td>Friend(s)</td>\n",
              "      <td>Sunny</td>\n",
              "      <td>80</td>\n",
              "      <td>2PM</td>\n",
              "      <td>Coffee House</td>\n",
              "      <td>1d</td>\n",
              "      <td>Female</td>\n",
              "      <td>21</td>\n",
              "      <td>Unmarried partner</td>\n",
              "      <td>...</td>\n",
              "      <td>never</td>\n",
              "      <td>NaN</td>\n",
              "      <td>4~8</td>\n",
              "      <td>1~3</td>\n",
              "      <td>1</td>\n",
              "      <td>1</td>\n",
              "      <td>0</td>\n",
              "      <td>0</td>\n",
              "      <td>1</td>\n",
              "      <td>0</td>\n",
              "    </tr>\n",
              "  </tbody>\n",
              "</table>\n",
              "<p>5 rows × 26 columns</p>\n",
              "</div>"
            ],
            "text/plain": [
              "       destination  passanger weather  temperature  time  \\\n",
              "0  No Urgent Place      Alone   Sunny           55   2PM   \n",
              "1  No Urgent Place  Friend(s)   Sunny           80  10AM   \n",
              "2  No Urgent Place  Friend(s)   Sunny           80  10AM   \n",
              "3  No Urgent Place  Friend(s)   Sunny           80   2PM   \n",
              "4  No Urgent Place  Friend(s)   Sunny           80   2PM   \n",
              "\n",
              "                  coupon expiration  gender age      maritalStatus  ...  \\\n",
              "0        Restaurant(<20)         1d  Female  21  Unmarried partner  ...   \n",
              "1           Coffee House         2h  Female  21  Unmarried partner  ...   \n",
              "2  Carry out & Take away         2h  Female  21  Unmarried partner  ...   \n",
              "3           Coffee House         2h  Female  21  Unmarried partner  ...   \n",
              "4           Coffee House         1d  Female  21  Unmarried partner  ...   \n",
              "\n",
              "   CoffeeHouse CarryAway RestaurantLessThan20 Restaurant20To50  \\\n",
              "0        never       NaN                  4~8              1~3   \n",
              "1        never       NaN                  4~8              1~3   \n",
              "2        never       NaN                  4~8              1~3   \n",
              "3        never       NaN                  4~8              1~3   \n",
              "4        never       NaN                  4~8              1~3   \n",
              "\n",
              "  toCoupon_GEQ5min toCoupon_GEQ15min toCoupon_GEQ25min direction_same  \\\n",
              "0                1                 0                 0              0   \n",
              "1                1                 0                 0              0   \n",
              "2                1                 1                 0              0   \n",
              "3                1                 1                 0              0   \n",
              "4                1                 1                 0              0   \n",
              "\n",
              "  direction_opp  Y  \n",
              "0             1  1  \n",
              "1             1  0  \n",
              "2             1  1  \n",
              "3             1  0  \n",
              "4             1  0  \n",
              "\n",
              "[5 rows x 26 columns]"
            ]
          },
          "execution_count": 61,
          "metadata": {},
          "output_type": "execute_result"
        }
      ],
      "source": [
        "data = pd.read_csv('data/coupons.csv')\n",
        "data.head()"
      ]
    },
    {
      "cell_type": "markdown",
      "metadata": {
        "id": "GcDs78ZH_qRH"
      },
      "source": [
        "2. Investigate the dataset for missing or problematic data."
      ]
    },
    {
      "cell_type": "code",
      "execution_count": 62,
      "metadata": {
        "id": "6CwL6oWj_qRH"
      },
      "outputs": [
        {
          "name": "stdout",
          "output_type": "stream",
          "text": [
            "Number of records: 12684\n",
            "Number of columns: 26\n",
            "Number of duplicate records: 74\n",
            "\n",
            "Data stats:\n",
            "\n",
            "|        | destination     | passanger   | weather   |   temperature | time   | coupon       | expiration   | gender   |   age | maritalStatus   |   has_children | education                | occupation   | income          | car                    | Bar   | CoffeeHouse   | CarryAway   | RestaurantLessThan20   | Restaurant20To50   |   toCoupon_GEQ5min |   toCoupon_GEQ15min |   toCoupon_GEQ25min |   direction_same |   direction_opp |            Y |\n",
            "|:-------|:----------------|:------------|:----------|--------------:|:-------|:-------------|:-------------|:---------|------:|:----------------|---------------:|:-------------------------|:-------------|:----------------|:-----------------------|:------|:--------------|:------------|:-----------------------|:-------------------|-------------------:|--------------------:|--------------------:|-----------------:|----------------:|-------------:|\n",
            "| count  | 12684           | 12684       | 12684     |    12684      | 12684  | 12684        | 12684        | 12684    | 12684 | 12684           |   12684        | 12684                    | 12684        | 12684           | 108                    | 12577 | 12467         | 12533       | 12554                  | 12495              |              12684 |        12684        |        12684        |     12684        |    12684        | 12684        |\n",
            "| unique | 3               | 4           | 3         |      nan      | 5      | 5            | 2            | 2        |     8 | 5               |     nan        | 6                        | 25           | 9               | 5                      | 5     | 5             | 5           | 5                      | 5                  |                nan |          nan        |          nan        |       nan        |      nan        |   nan        |\n",
            "| top    | No Urgent Place | Alone       | Sunny     |      nan      | 6PM    | Coffee House | 1d           | Female   |    21 | Married partner |     nan        | Some college - no degree | Unemployed   | $25000 - $37499 | Scooter and motorcycle | never | less1         | 1~3         | 1~3                    | less1              |                nan |          nan        |          nan        |       nan        |      nan        |   nan        |\n",
            "| freq   | 6283            | 7305        | 10069     |      nan      | 3230   | 3996         | 7091         | 6511     |  2653 | 5100            |     nan        | 4351                     | 1870         | 2013            | 22                     | 5197  | 3385          | 4672        | 5376                   | 6077               |                nan |          nan        |          nan        |       nan        |      nan        |   nan        |\n",
            "| mean   | nan             | nan         | nan       |       63.3018 | nan    | nan          | nan          | nan      |   nan | nan             |       0.414144 | nan                      | nan          | nan             | nan                    | nan   | nan           | nan         | nan                    | nan                |                  1 |            0.561495 |            0.119126 |         0.214759 |        0.785241 |     0.568433 |\n",
            "| std    | nan             | nan         | nan       |       19.1545 | nan    | nan          | nan          | nan      |   nan | nan             |       0.492593 | nan                      | nan          | nan             | nan                    | nan   | nan           | nan         | nan                    | nan                |                  0 |            0.496224 |            0.32395  |         0.410671 |        0.410671 |     0.495314 |\n",
            "| min    | nan             | nan         | nan       |       30      | nan    | nan          | nan          | nan      |   nan | nan             |       0        | nan                      | nan          | nan             | nan                    | nan   | nan           | nan         | nan                    | nan                |                  1 |            0        |            0        |         0        |        0        |     0        |\n",
            "| 25%    | nan             | nan         | nan       |       55      | nan    | nan          | nan          | nan      |   nan | nan             |       0        | nan                      | nan          | nan             | nan                    | nan   | nan           | nan         | nan                    | nan                |                  1 |            0        |            0        |         0        |        1        |     0        |\n",
            "| 50%    | nan             | nan         | nan       |       80      | nan    | nan          | nan          | nan      |   nan | nan             |       0        | nan                      | nan          | nan             | nan                    | nan   | nan           | nan         | nan                    | nan                |                  1 |            1        |            0        |         0        |        1        |     1        |\n",
            "| 75%    | nan             | nan         | nan       |       80      | nan    | nan          | nan          | nan      |   nan | nan             |       1        | nan                      | nan          | nan             | nan                    | nan   | nan           | nan         | nan                    | nan                |                  1 |            1        |            0        |         0        |        1        |     1        |\n",
            "| max    | nan             | nan         | nan       |       80      | nan    | nan          | nan          | nan      |   nan | nan             |       1        | nan                      | nan          | nan             | nan                    | nan   | nan           | nan         | nan                    | nan                |                  1 |            1        |            1        |         1        |        1        |     1        |\n",
            "\n",
            "Columns with missing values:\n",
            "\n",
            "|                      |   #Missing |   %Missing |\n",
            "|:---------------------|-----------:|-----------:|\n",
            "| car                  |      12576 |  99.1485   |\n",
            "| CoffeeHouse          |        217 |   1.71082  |\n",
            "| Restaurant20To50     |        189 |   1.49007  |\n",
            "| CarryAway            |        151 |   1.19048  |\n",
            "| RestaurantLessThan20 |        130 |   1.02491  |\n",
            "| Bar                  |        107 |   0.843582 |\n"
          ]
        }
      ],
      "source": [
        "#print(data.info())\n",
        "#print(data.nunique())\n",
        "\n",
        "print(\"Number of records:\", data.shape[0])\n",
        "print(\"Number of columns:\", data.shape[1])\n",
        "\n",
        "# Check for duplicates - duplicates are valid for this datasets but still checking\n",
        "duplicates = data[data.duplicated()]\n",
        "print(f\"Number of duplicate records: {duplicates.shape[0]}\")\n",
        "#print(duplicates.to_markdown())\n",
        "\n",
        "# Print data stats \n",
        "print(\"\\nData stats:\\n\")\n",
        "print(data.describe(include='all').to_markdown())\n",
        "\n",
        "#Check for missing values\n",
        "missing = data.isnull().sum()[data.isnull().any()]\n",
        "#% missing values per column\n",
        "missing_percent = (missing/len(data)) * 100\n",
        "\n",
        "#summary of missing values\n",
        "missing_summary = pd.DataFrame({\n",
        "    '#Missing': missing,\n",
        "    '%Missing': missing_percent\n",
        "}).sort_values(by='#Missing', ascending=False)\n",
        "\n",
        "print(\"\\nColumns with missing values:\\n\")\n",
        "print(missing_summary.to_markdown())"
      ]
    },
    {
      "cell_type": "code",
      "execution_count": 63,
      "metadata": {},
      "outputs": [
        {
          "name": "stdout",
          "output_type": "stream",
          "text": [
            "Top 5 +ve correlations with Y:\n",
            "\n",
            "|                              |        Y |\n",
            "|:-----------------------------|---------:|\n",
            "| coupon_Carry out & Take away | 0.162635 |\n",
            "| coupon_Restaurant(<20)       | 0.148542 |\n",
            "| destination_No Urgent Place  | 0.130702 |\n",
            "| passanger_Friend(s)          | 0.125671 |\n",
            "| weather_Sunny                | 0.104446 |\n",
            "\n",
            "Top 5 +ve correlations with Y:\n",
            "\n",
            "|                     |           Y |\n",
            "|:--------------------|------------:|\n",
            "| coupon_Coffee House |  -0.0947308 |\n",
            "| toCoupon_GEQ25min   |  -0.103633  |\n",
            "| CoffeeHouse_never   |  -0.121036  |\n",
            "| expiration_2h       |  -0.12992   |\n",
            "| toCoupon_GEQ5min    | nan         |\n"
          ]
        }
      ],
      "source": [
        "# Checking correlations\n",
        "data_encoded = pd.get_dummies(data, drop_first=True)\n",
        "corr = data_encoded.corr()\n",
        "corr = corr['Y'].drop('Y')  # drop self-correlation\n",
        "\n",
        "# Sort by correlation value\n",
        "corr = corr.sort_values(ascending=False)\n",
        "print(\"Top 5 +ve correlations with Y:\\n\")\n",
        "print(corr.head(5).to_markdown())\n",
        "\n",
        "print(\"\\nTop 5 +ve correlations with Y:\\n\")\n",
        "print(corr.tail(5).to_markdown())"
      ]
    },
    {
      "cell_type": "markdown",
      "metadata": {
        "id": "bSdVSpYB_qRH"
      },
      "source": [
        "3. Decide what to do about your missing data -- drop, replace, other..."
      ]
    },
    {
      "cell_type": "code",
      "execution_count": 64,
      "metadata": {
        "id": "tyvoAC5F_qRI"
      },
      "outputs": [
        {
          "name": "stdout",
          "output_type": "stream",
          "text": [
            "car: ['Scooter and motorcycle' 'crossover' 'Mazda5' 'do not drive'\n",
            " 'Car that is too old to install Onstar :D']\n",
            "Bar: ['never' 'less1' '1~3' 'gt8' '4~8']\n",
            "CoffeeHouse: ['never' 'less1' '4~8' '1~3' 'gt8']\n",
            "CarryAway: ['4~8' '1~3' 'gt8' 'less1' 'never']\n",
            "RestaurantLessThan20: ['4~8' '1~3' 'less1' 'gt8' 'never']\n",
            "Restaurant20To50: ['1~3' 'less1' 'never' 'gt8' '4~8']\n"
          ]
        }
      ],
      "source": [
        "# Some fields have missing data car, Bar, CoffeeHouse, CarryAway, RestaurantLessThan20, and Restaurant20To50\n",
        "#check the values \n",
        "cols_with_missing_data = data.columns[data.isnull().any()]\n",
        "for col in cols_with_missing_data:\n",
        "    print(f\"{col}: {data[col].dropna().unique()}\")\n",
        "\n",
        "#Display the recors with missing values\n",
        "# pd.set_option('display.max_columns', None)\n",
        "#data[data.isnull().any(axis=1)]\n",
        "\n",
        "#car - The type of vehicledriven by the user. Over 99% missing data, dropping the column\n",
        "#toCoupon_GEQ5min - drop the column as value is true for all records \n",
        "#keep direction_same & drop direction_opp\n",
        "cols_to_drop = ['car', 'toCoupon_GEQ5min', 'direction_opp']\n",
        "data = data.drop(columns=cols_to_drop, axis=1)\n",
        "\n",
        "#all other colums replace missing with 'Unknown'\n",
        "unknown_cols = [\n",
        "    'Bar',\n",
        "    'CoffeeHouse',\n",
        "    'CarryAway',\n",
        "    'RestaurantLessThan20',\n",
        "    'Restaurant20To50'\n",
        "]\n",
        "\n",
        "for col in unknown_cols:\n",
        "    data[col] = data[col].fillna('Unknown')\n",
        "\n",
        "#check cleaning\n",
        "#print(data.isnull().sum())"
      ]
    },
    {
      "cell_type": "markdown",
      "metadata": {
        "id": "YE6oJbXd_qRI"
      },
      "source": [
        "4. What proportion of the total observations chose to accept the coupon?\n",
        "\n"
      ]
    },
    {
      "cell_type": "code",
      "execution_count": 65,
      "metadata": {
        "id": "86GGqBTv_qRI"
      },
      "outputs": [
        {
          "name": "stdout",
          "output_type": "stream",
          "text": [
            "\n",
            "Overall acceptance rate of coupons:\n",
            "\n",
            "| Y        |   Count |   Percentage |\n",
            "|:---------|--------:|-------------:|\n",
            "| Accepted |    7210 |        56.84 |\n",
            "| Rejected |    5474 |        43.16 |\n"
          ]
        }
      ],
      "source": [
        "# 'Y' contains binary values 1 or 0, using value counts \n",
        "count = data['Y'].value_counts()\n",
        "percentage = count/len(data) * 100\n",
        "\n",
        "summary = pd.DataFrame({'Count': count, 'Percentage': percentage}).round(2)\n",
        "summary.reset_index(inplace=True)\n",
        "# Map the Y values to readable labels\n",
        "summary['Y'] = summary['Y'].map({1: 'Accepted', 0: 'Rejected'})\n",
        "print(\"\\nOverall acceptance rate of coupons:\\n\") \n",
        "print(summary.to_markdown(index=False)) "
      ]
    },
    {
      "cell_type": "markdown",
      "metadata": {
        "id": "vflz0DoE_qRI"
      },
      "source": [
        "5. Use a bar plot to visualize the `coupon` column."
      ]
    },
    {
      "cell_type": "code",
      "execution_count": 66,
      "metadata": {},
      "outputs": [
        {
          "data": {
            "image/png": "[encoded data removed]",
            "text/plain": [
              "<Figure size 1000x800 with 1 Axes>"
            ]
          },
          "metadata": {},
          "output_type": "display_data"
        },
        {
          "name": "stdout",
          "output_type": "stream",
          "text": [
            "|    | coupon                |   Total |   Accepted |   Rejected |   Acceptance % |\n",
            "|---:|:----------------------|--------:|-----------:|-----------:|---------------:|\n",
            "|  2 | Coffee House          |    3996 |       1995 |       2001 |          49.92 |\n",
            "|  4 | Restaurant(<20)       |    2786 |       1970 |        816 |          70.71 |\n",
            "|  1 | Carry out & Take away |    2393 |       1760 |        633 |          73.55 |\n",
            "|  0 | Bar                   |    2017 |        827 |       1190 |          41    |\n",
            "|  3 | Restaurant(20-50)     |    1492 |        658 |        834 |          44.1  |\n"
          ]
        }
      ],
      "source": [
        "# Total counts\n",
        "total_counts = data.groupby('coupon')['Y'].count()\n",
        "\n",
        "# Accepted counts\n",
        "accepted_counts = data.groupby('coupon')['Y'].sum()\n",
        "\n",
        "# Combine into a DataFrame\n",
        "summary = pd.DataFrame({\n",
        "    'Total': total_counts,\n",
        "    'Accepted': accepted_counts\n",
        "})\n",
        "\n",
        "summary['Rejected'] = summary['Total'] - summary['Accepted']\n",
        "summary['Acceptance %'] = (summary['Accepted'] / summary['Total'] * 100).round(2)\n",
        "summary = summary.reset_index()\n",
        "\n",
        "\n",
        "# Sort ascending by total count\n",
        "summary = summary.sort_values(by='Total', ascending=False)\n",
        "\n",
        "# melt for grouped bar chart\n",
        "summary_long = summary.melt(\n",
        "    id_vars='coupon',\n",
        "    value_vars=['Accepted', 'Rejected'],\n",
        "    var_name='Acceptance',\n",
        "    value_name='Count'\n",
        ")\n",
        "\n",
        "# Create the plot\n",
        "plt.figure(figsize=(10, 8))\n",
        "sns.set_style(\"whitegrid\")\n",
        "\n",
        "ax = sns.barplot(\n",
        "    data=summary_long,\n",
        "    x='Count',\n",
        "    y='coupon',\n",
        "    hue='Acceptance',\n",
        "    palette='pastel'\n",
        ")\n",
        "\n",
        "# Add title and labels\n",
        "plt.title('Coupon Acceptance by Type', fontsize=14)\n",
        "plt.xlabel('Number of Customers', fontsize=12)\n",
        "plt.ylabel('Coupon Type', fontsize=12)\n",
        "plt.legend(loc='lower right')\n",
        "\n",
        "# Add labels on bars for clarity\n",
        "for container in ax.containers:\n",
        "    ax.bar_label(container, fmt='%d', padding=3)\n",
        "\n",
        "plt.tight_layout()\n",
        "plt.show()\n",
        "\n",
        "print(summary.to_markdown())"
      ]
    },
    {
      "cell_type": "markdown",
      "metadata": {
        "id": "Qw4lCyx2_qRI"
      },
      "source": [
        "6. Use a histogram to visualize the temperature column."
      ]
    },
    {
      "cell_type": "code",
      "execution_count": 67,
      "metadata": {
        "id": "Yg9Anv71_qRI"
      },
      "outputs": [
        {
          "name": "stdout",
          "output_type": "stream",
          "text": [
            "[55 80 30]\n"
          ]
        },
        {
          "data": {
            "text/plain": [
              "Text(0, 0.5, 'Frequency')"
            ]
          },
          "execution_count": 67,
          "metadata": {},
          "output_type": "execute_result"
        },
        {
          "data": {
            "image/png": "[encoded data removed]",
            "text/plain": [
              "<Figure size 640x480 with 1 Axes>"
            ]
          },
          "metadata": {},
          "output_type": "display_data"
        }
      ],
      "source": [
        "print(data['temperature'].unique())\n",
        "#just 3 values\n",
        "sns.histplot(data=data, x='temperature', bins=4, color=sns.color_palette(\"pastel\")[0],)\n",
        "\n",
        "plt.title('Histogram of Temperature')\n",
        "plt.xlabel('Temperature (F)')\n",
        "plt.ylabel('Frequency')\n"
      ]
    },
    {
      "cell_type": "markdown",
      "metadata": {
        "id": "FupfgeJk_qRJ"
      },
      "source": [
        "**Investigating the Bar Coupons**\n",
        "\n",
        "Now, we will lead you through an exploration of just the bar related coupons.  \n",
        "\n",
        "1. Create a new `DataFrame` that contains just the bar coupons.\n"
      ]
    },
    {
      "cell_type": "code",
      "execution_count": 68,
      "metadata": {
        "id": "tMBlWuGq_qRJ"
      },
      "outputs": [],
      "source": [
        "#filter bar coupon records \n",
        "df_bar = data.query(\"coupon == 'Bar'\")\n",
        "#df_bar.head()"
      ]
    },
    {
      "cell_type": "markdown",
      "metadata": {
        "id": "8ue6uCqf_qRJ"
      },
      "source": [
        "2. What proportion of bar coupons were accepted?\n"
      ]
    },
    {
      "cell_type": "code",
      "execution_count": 69,
      "metadata": {
        "id": "hSdte8Mi_qRK"
      },
      "outputs": [
        {
          "data": {
            "image/png": "[encoded data removed]",
            "text/plain": [
              "<Figure size 600x600 with 1 Axes>"
            ]
          },
          "metadata": {},
          "output_type": "display_data"
        }
      ],
      "source": [
        "#create a copy of df\n",
        "df_bar_coupons = df_bar.copy()\n",
        "\n",
        "#find number of bar coupons accepted\n",
        "acceptance_count = df_bar_coupons['Y'].value_counts()\n",
        "#find % of bar coupons accepted\n",
        "acceptance_percentage = acceptance_count/len(df_bar_coupons) * 100\n",
        "\n",
        "#create dataframe and display\n",
        "acceptance_count.rename({1: 'Accepted', 0: 'Rejected'})\n",
        "\n",
        "# Seaborn pastel palette\n",
        "colors = sns.color_palette('pastel')\n",
        "\n",
        "# Create pie chart\n",
        "plt.figure(figsize=(6, 6))\n",
        "plt.pie(\n",
        "    acceptance_count,\n",
        "    labels=['Accepted', 'Not Accepted'],\n",
        "    autopct='%.1f%%',\n",
        "    startangle=90,\n",
        "    colors=colors,\n",
        "    wedgeprops={'edgecolor': 'white'}\n",
        ")\n",
        "plt.title('Proportion of Bar Coupons Accepted', fontsize=12)\n",
        "plt.show()\n"
      ]
    },
    {
      "cell_type": "markdown",
      "metadata": {
        "id": "85nA_iEi_qRK"
      },
      "source": [
        "3. Compare the acceptance rate between those who went to a bar 3 or fewer times a month to those who went more.\n"
      ]
    },
    {
      "cell_type": "code",
      "execution_count": 70,
      "metadata": {
        "id": "LBOrN-XM_qRK"
      },
      "outputs": [
        {
          "data": {
            "text/html": [
              "<div>\n",
              "<style scoped>\n",
              "    .dataframe tbody tr th:only-of-type {\n",
              "        vertical-align: middle;\n",
              "    }\n",
              "\n",
              "    .dataframe tbody tr th {\n",
              "        vertical-align: top;\n",
              "    }\n",
              "\n",
              "    .dataframe thead th {\n",
              "        text-align: right;\n",
              "    }\n",
              "</style>\n",
              "<table border=\"1\" class=\"dataframe\">\n",
              "  <thead>\n",
              "    <tr style=\"text-align: right;\">\n",
              "      <th></th>\n",
              "      <th>bar_visits</th>\n",
              "      <th>Total</th>\n",
              "      <th>Accepted</th>\n",
              "      <th>Acceptance %</th>\n",
              "    </tr>\n",
              "  </thead>\n",
              "  <tbody>\n",
              "    <tr>\n",
              "      <th>0</th>\n",
              "      <td>&lt;= 3 times</td>\n",
              "      <td>1818</td>\n",
              "      <td>674</td>\n",
              "      <td>37.07</td>\n",
              "    </tr>\n",
              "    <tr>\n",
              "      <th>1</th>\n",
              "      <td>&gt; 3 times</td>\n",
              "      <td>199</td>\n",
              "      <td>153</td>\n",
              "      <td>76.88</td>\n",
              "    </tr>\n",
              "  </tbody>\n",
              "</table>\n",
              "</div>"
            ],
            "text/plain": [
              "   bar_visits  Total  Accepted  Acceptance %\n",
              "0  <= 3 times   1818       674         37.07\n",
              "1   > 3 times    199       153         76.88"
            ]
          },
          "execution_count": 70,
          "metadata": {},
          "output_type": "execute_result"
        }
      ],
      "source": [
        "#Bar coupon values are: ['never' 'less1' '1~3' 'gt8' '4~8']\n",
        "\n",
        "#create a copy of df\n",
        "df_bar_coupons = df_bar.copy()\n",
        "\n",
        "df_bar_coupons['bar_visits'] = np.where(df_bar['Bar'].isin(['4~8', 'gt8']), '> 3 times', '<= 3 times')\n",
        "\n",
        "#calculate accepteance %\n",
        "total = df_bar_coupons.groupby('bar_visits')['Y'].count()\n",
        "accepted_counts = df_bar_coupons.groupby('bar_visits')['Y'].sum()\n",
        "accepted_percentage = (accepted_counts / total * 100).round(2)\n",
        "\n",
        "acceptance = pd.DataFrame({\n",
        "    'Total': total,\n",
        "    'Accepted': accepted_counts,\n",
        "    'Acceptance %': accepted_percentage\n",
        "}).reset_index()\n",
        "\n",
        "acceptance\n",
        "\n",
        "\n",
        "#people who go to bars more than 3 times a month are much more likely to accept bar coupons (~77%) than those who go less frequently (~37%)\n",
        "#bar visits is a strong predictor of bar coupon acceptance"
      ]
    },
    {
      "cell_type": "markdown",
      "metadata": {
        "id": "RBgcQwH4_qRK"
      },
      "source": [
        "4. Compare the acceptance rate between drivers who go to a bar more than once a month and are over the age of 25 to the all others.  Is there a difference?\n"
      ]
    },
    {
      "cell_type": "code",
      "execution_count": 71,
      "metadata": {
        "id": "bf28bbeX_qRK"
      },
      "outputs": [
        {
          "data": {
            "text/html": [
              "<div>\n",
              "<style scoped>\n",
              "    .dataframe tbody tr th:only-of-type {\n",
              "        vertical-align: middle;\n",
              "    }\n",
              "\n",
              "    .dataframe tbody tr th {\n",
              "        vertical-align: top;\n",
              "    }\n",
              "\n",
              "    .dataframe thead th {\n",
              "        text-align: right;\n",
              "    }\n",
              "</style>\n",
              "<table border=\"1\" class=\"dataframe\">\n",
              "  <thead>\n",
              "    <tr style=\"text-align: right;\">\n",
              "      <th></th>\n",
              "      <th>bar_visits</th>\n",
              "      <th>Total</th>\n",
              "      <th>Accepted</th>\n",
              "      <th>Acceptance %</th>\n",
              "    </tr>\n",
              "  </thead>\n",
              "  <tbody>\n",
              "    <tr>\n",
              "      <th>0</th>\n",
              "      <td>All Others</td>\n",
              "      <td>1597</td>\n",
              "      <td>535</td>\n",
              "      <td>33.50</td>\n",
              "    </tr>\n",
              "    <tr>\n",
              "      <th>1</th>\n",
              "      <td>Frequent Bar-Goer</td>\n",
              "      <td>420</td>\n",
              "      <td>292</td>\n",
              "      <td>69.52</td>\n",
              "    </tr>\n",
              "  </tbody>\n",
              "</table>\n",
              "</div>"
            ],
            "text/plain": [
              "          bar_visits  Total  Accepted  Acceptance %\n",
              "0         All Others   1597       535         33.50\n",
              "1  Frequent Bar-Goer    420       292         69.52"
            ]
          },
          "execution_count": 71,
          "metadata": {},
          "output_type": "execute_result"
        }
      ],
      "source": [
        "#start with the filter bar coupons\n",
        "#Bar coupon values are: ['never' 'less1' '1~3' 'gt8' '4~8']\n",
        "#Age - ['21' '46' '26' '31' '41' '50plus' '36' 'below21']\n",
        "\n",
        "df_bar_coupons = df_bar.copy()\n",
        "#print(df_bar_coupons['age'].unique())\n",
        "#print(df_bar['Bar'].unique())\n",
        "\n",
        "\n",
        "df_bar_coupons['bar_visits'] = 'All Others'  \n",
        "df_bar_coupons.loc[\n",
        "    (df_bar_coupons['Bar'].isin(['1~3', '4~8', 'gt8'])) &\n",
        "    (~df_bar_coupons['age'].isin(['below21', '21'])),\n",
        "    'bar_visits'\n",
        "] = 'Frequent Bar-Goer'\n",
        "\n",
        "#df_bar_coupons.sample(2)\n",
        "\n",
        "#gt1_counts = df_bar_coupons.query (\"bar_visits == 'Frequent Bar-Goer'\").value_counts()\n",
        "#gt1_percentage = gt1_counts/len(df_bar_coupons) * 100\n",
        "\n",
        "\n",
        "#calculate acceptance % \n",
        "totals = df_bar_coupons.groupby('bar_visits')['Y'].count()\n",
        "accepted_counts = df_bar_coupons.groupby('bar_visits')['Y'].sum()\n",
        "accepted_percentage = (accepted_counts / totals * 100).round(2)\n",
        "\n",
        "bar_acceptance = pd.DataFrame({\n",
        "    'Total': totals,\n",
        "    'Accepted': accepted_counts,\n",
        "    'Acceptance %': accepted_percentage\n",
        "}).reset_index()\n",
        "\n",
        "#display\n",
        "bar_acceptance"
      ]
    },
    {
      "cell_type": "markdown",
      "metadata": {
        "id": "S4RKT4PJ_qRK"
      },
      "source": [
        "5. Use the same process to compare the acceptance rate between drivers who go to bars more than once a month and had passengers that were not a kid and had occupations other than farming, fishing, or forestry.\n"
      ]
    },
    {
      "cell_type": "code",
      "execution_count": 72,
      "metadata": {
        "id": "sENaI2Tg_qRK"
      },
      "outputs": [
        {
          "name": "stdout",
          "output_type": "stream",
          "text": [
            "Frequent Bar-Goer - No Kid(s) passengers - Non-Farm occupation\n",
            "\n"
          ]
        },
        {
          "data": {
            "text/html": [
              "<div>\n",
              "<style scoped>\n",
              "    .dataframe tbody tr th:only-of-type {\n",
              "        vertical-align: middle;\n",
              "    }\n",
              "\n",
              "    .dataframe tbody tr th {\n",
              "        vertical-align: top;\n",
              "    }\n",
              "\n",
              "    .dataframe thead th {\n",
              "        text-align: right;\n",
              "    }\n",
              "</style>\n",
              "<table border=\"1\" class=\"dataframe\">\n",
              "  <thead>\n",
              "    <tr style=\"text-align: right;\">\n",
              "      <th></th>\n",
              "      <th>bar_visits</th>\n",
              "      <th>Total</th>\n",
              "      <th>Accepted</th>\n",
              "      <th>Acceptance %</th>\n",
              "    </tr>\n",
              "  </thead>\n",
              "  <tbody>\n",
              "    <tr>\n",
              "      <th>0</th>\n",
              "      <td>All Others</td>\n",
              "      <td>1466</td>\n",
              "      <td>434</td>\n",
              "      <td>29.60</td>\n",
              "    </tr>\n",
              "    <tr>\n",
              "      <th>1</th>\n",
              "      <td>Frequent Bar-Goer</td>\n",
              "      <td>551</td>\n",
              "      <td>393</td>\n",
              "      <td>71.32</td>\n",
              "    </tr>\n",
              "  </tbody>\n",
              "</table>\n",
              "</div>"
            ],
            "text/plain": [
              "          bar_visits  Total  Accepted  Acceptance %\n",
              "0         All Others   1466       434         29.60\n",
              "1  Frequent Bar-Goer    551       393         71.32"
            ]
          },
          "execution_count": 72,
          "metadata": {},
          "output_type": "execute_result"
        }
      ],
      "source": [
        "df_bar_coupons = df_bar.copy()\n",
        "#['Kid(s)' 'Alone' 'Friend(s)' 'Partner']\n",
        "#print(df_bar_coupons['passanger'].unique())\n",
        "#print(df_bar_coupons['occupation'].unique())\n",
        "#Farming Fishing & Forestry\n",
        "\n",
        "df_bar_coupons['bar_visits'] = 'All Others'  \n",
        "df_bar_coupons.loc[\n",
        "    (df_bar_coupons['Bar'].isin(['1~3', '4~8', 'gt8'])) & # goes to bar more than once \n",
        "    (~df_bar_coupons['passanger'].isin(['Kid(s)'])) & # passenger not kids\n",
        "    (~df_bar_coupons['occupation'].isin(['Farming Fishing & Forestry'])) , # occupation not farming\n",
        "    'bar_visits'\n",
        "] = 'Frequent Bar-Goer'\n",
        "\n",
        "#calculate acceptance %\n",
        "totals = df_bar_coupons.groupby('bar_visits')['Y'].count()\n",
        "accepted_counts = df_bar_coupons.groupby('bar_visits')['Y'].sum()\n",
        "accepted_percentage = (accepted_counts / totals * 100).round(2)\n",
        "\n",
        "bar_acceptance = pd.DataFrame({\n",
        "    'Total': totals,\n",
        "    'Accepted': accepted_counts,\n",
        "    'Acceptance %': accepted_percentage\n",
        "}).reset_index()\n",
        "\n",
        "\n",
        "#display\n",
        "print(\"Frequent Bar-Goer - No Kid(s) passengers - Non-Farm occupation\\n\")\n",
        "bar_acceptance\n"
      ]
    },
    {
      "cell_type": "markdown",
      "metadata": {
        "id": "n2LIUTil_qRK"
      },
      "source": [
        "6. Compare the acceptance rates between those drivers who:\n",
        "\n",
        "- go to bars more than once a month, had passengers that were not a kid, and were not widowed *OR*\n",
        "- go to bars more than once a month and are under the age of 30 *OR*\n",
        "- go to cheap restaurants more than 4 times a month and income is less than 50K.\n",
        "\n"
      ]
    },
    {
      "cell_type": "code",
      "execution_count": 73,
      "metadata": {},
      "outputs": [
        {
          "name": "stdout",
          "output_type": "stream",
          "text": [
            "| Group                                    |   Total |   Accepted |   Acceptance % |\n",
            "|:-----------------------------------------|--------:|-----------:|---------------:|\n",
            "| Bar > 1/month(No Kids, Not Widowed)      |     551 |        393 |          71.32 |\n",
            "| Bar > 1/month(Age < 30)                  |     345 |        249 |          72.17 |\n",
            "| Cheap Restaurant > 4/month(Income < 50K) |     344 |        156 |          45.35 |\n"
          ]
        },
        {
          "data": {
            "image/png": "[encoded data removed]",
            "text/plain": [
              "<Figure size 1000x500 with 1 Axes>"
            ]
          },
          "metadata": {},
          "output_type": "display_data"
        }
      ],
      "source": [
        "#check unique values\n",
        "#print(df_bar_coupons['maritalStatus'].unique())\n",
        "#print(df_bar_coupons['RestaurantLessThan20'].unique())\n",
        "#print(df_bar_coupons['income'].unique())\n",
        "\n",
        "df_bar_coupons = df_bar.copy()\n",
        "\n",
        "#Drivers go to bars more than once a month, had passengers that were not a kid, and were not widowed \n",
        "group1 = (\n",
        "    df_bar_coupons['Bar'].isin(['1~3', '4~8', 'gt8']) & # goes to bar more than once \n",
        "    (~df_bar_coupons['passanger'].isin(['Kid(s)'])) & # passenger not kids\n",
        "    (~df_bar_coupons['maritalStatus'].isin(['Widowed'])) # not Widowed\n",
        ")\n",
        "\n",
        "# Drivers go to bars more than once a month and are under the age of 30\n",
        "group2 = (\n",
        "    df_bar_coupons['Bar'].isin(['1~3', '4~8', 'gt8']) & # goes to bar more than once \n",
        "    df_bar_coupons['age'].isin(['below21','21','26']) # under 30 years\n",
        ")\n",
        "\n",
        "# Drivers who go to cheap restaurants more than 4 times a month and income is less than 50K.\n",
        "group3 = (\n",
        "    df_bar_coupons['RestaurantLessThan20'].isin(['4~8', 'gt8']) & # goes to cheap restaurant more than 4 times\n",
        "    df_bar_coupons['income'].isin(['Less than $12500', '$12500 - $24999','$25000 - $37499', '$37500 - $49999' ]) # income < 50K\n",
        ")\n",
        "\n",
        "# func cto alculate acceptance \n",
        "def calculate_acceptance(group, name):\n",
        "    total = group.sum()\n",
        "    accepted_counts = df_bar_coupons.loc[group, 'Y'].sum()\n",
        "    accepted_percentage = round((accepted_counts / total) * 100, 2) if total > 0 else None\n",
        "    return {'Group': name, 'Total': total, 'Accepted': accepted_counts, 'Acceptance %': accepted_percentage}\n",
        "\n",
        "acceptance = [\n",
        "    calculate_acceptance(group1, \"Bar > 1/month(No Kids, Not Widowed)\"),\n",
        "    calculate_acceptance(group2, \"Bar > 1/month(Age < 30)\"),\n",
        "    calculate_acceptance(group3, \"Cheap Restaurant > 4/month(Income < 50K)\")\n",
        "]\n",
        "\n",
        "summary = pd.DataFrame(acceptance)\n",
        "print(summary.to_markdown(index=False))\n",
        "\n",
        "\n",
        "plt.figure(figsize=(10, 5))\n",
        "sns.set(style=\"whitegrid\")\n",
        "\n",
        "x = sns.barplot(\n",
        "    data=summary,\n",
        "    x='Acceptance %',\n",
        "    y='Group',\n",
        "    hue='Acceptance %',\n",
        "    palette=sns.color_palette(\"YlGnBu\", as_cmap=True),  # continuous colormap\n",
        "    legend=False\n",
        ")\n",
        "\n",
        "# Add labels to each bar\n",
        "for i, row in summary.iterrows():\n",
        "    x.text( row['Acceptance %'] + 1, i, f\"{row['Acceptance %']}%\", va='center', fontsize=9)\n",
        "\n",
        "# Formatting\n",
        "plt.title('Bar Coupon Acceptance by Target Group', fontsize=14)\n",
        "plt.xlabel('Acceptance Rate (%)', fontsize=12)\n",
        "plt.ylabel('Target Group', fontsize=12)\n",
        "plt.xlim(0, 100)  # range 0–100%\n",
        "\n",
        "plt.tight_layout()\n",
        "plt.show()\n"
      ]
    },
    {
      "cell_type": "markdown",
      "metadata": {
        "id": "v3fL3QkO_qRK"
      },
      "source": [
        "7.  Based on these observations, what do you hypothesize about drivers who accepted the bar coupons?"
      ]
    },
    {
      "cell_type": "markdown",
      "metadata": {
        "id": "Y48naDFh_qRL"
      },
      "source": [
        "**Summary of Bar Coupon Analysis**\n",
        "\n",
        "- Overall acceptance of bar coupons is 41%. \n",
        "- Frequently bars visitors (over 3 times a month) show higher acceptance of 77%\n",
        "- Drivers who go to bars at least once a month have high acceptance rate.\n",
        "- Drivers travelling without kids and not widowed have an acceptance rate of 71%\n",
        "- Younger drivers (under 30 years) who visit bar at least once a month show a high acceptance of 72% \n",
        "\n",
        "The observations suggest that life style factors and habits, especially frequency of visits to bar, is a strong indicator of bar coupon acceptance. Also younger drivers are more likely to accept bar coupons.\n",
        "\n",
        "Targeting frequent bar visitors will likely increase acceptance rate of bar coupons above 41%. Among frequent bar visitors, targeting the younger drivers should further increase the likelihood of acceptance. "
      ]
    },
    {
      "cell_type": "markdown",
      "metadata": {
        "id": "r4Hu1zOb_qRL"
      },
      "source": [
        "### Independent Investigation\n",
        "\n",
        "Using the bar coupon example as motivation, you are to explore one of the other coupon groups and try to determine the characteristics of passengers who accept the coupons.  "
      ]
    },
    {
      "cell_type": "code",
      "execution_count": 74,
      "metadata": {
        "id": "0c71cQhu_qRL"
      },
      "outputs": [
        {
          "name": "stdout",
          "output_type": "stream",
          "text": [
            "Overall Coffee House coupon acceptance: 49.92%\n"
          ]
        }
      ],
      "source": [
        "#filter bar coupon records \n",
        "df_coffee = data.query(\"coupon == 'Coffee House'\").copy()\n",
        "df_coffee['accepted'] = df_coffee['Y'].map({1: 'Accepted', 0: 'Rejected'})\n",
        "df_coffee.head()\n",
        "\n",
        "# Overall acceptance rate\n",
        "total = len(df_coffee)\n",
        "accepted_count = df_coffee['Y'].sum()\n",
        "acceptance_percentage = round((accepted_count / total) * 100, 2)\n",
        "\n",
        "print(f\"Overall Coffee House coupon acceptance: {acceptance_percentage}%\")"
      ]
    },
    {
      "cell_type": "code",
      "execution_count": 75,
      "metadata": {
        "id": "QEsBkvIN_qRL"
      },
      "outputs": [
        {
          "name": "stdout",
          "output_type": "stream",
          "text": [
            "Coffee House Visits: ['never' 'less1' '4~8' '1~3' 'gt8' 'Unknown']\n",
            "Destination: ['No Urgent Place' 'Home' 'Work']\n",
            "Weather: ['Sunny' 'Rainy' 'Snowy']\n",
            "Temperature: [80 55 30]\n",
            "Time: ['10AM' '2PM' '6PM' '7AM' '10PM']\n",
            "Gender: ['Female' 'Male']\n",
            "Same Direction: [0 1]\n",
            "Expiry: ['2h' '1d']\n",
            "Income: ['$37500 - $49999' '$62500 - $74999' '$12500 - $24999' '$75000 - $87499'\n",
            " '$50000 - $62499' '$25000 - $37499' '$100000 or More' '$87500 - $99999'\n",
            " 'Less than $12500']\n",
            "Age: ['21' '46' '26' '31' '41' '50plus' '36' 'below21']\n",
            "Gender: ['Female' 'Male']\n"
          ]
        }
      ],
      "source": [
        "#Checking unique values in different colums\n",
        "print(f\"Coffee House Visits: {df_coffee['CoffeeHouse'].unique()}\")\n",
        "print(f\"Destination: {df_coffee['destination'].unique()}\")\n",
        "print(f\"Weather: {df_coffee['weather'].unique()}\")\n",
        "print(f\"Temperature: {df_coffee['temperature'].unique()}\")\n",
        "print(f\"Time: {df_coffee['time'].unique()}\")\n",
        "print(f\"Gender: {df_coffee['gender'].unique()}\")\n",
        "print(f\"Same Direction: {df_coffee['direction_same'].unique()}\")\n",
        "print(f\"Expiry: {df_coffee['expiration'].unique()}\")\n",
        "print(f\"Income: {df_coffee['income'].unique()}\")\n",
        "print(f\"Age: {df_coffee['age'].unique()}\")\n",
        "print(f\"Gender: {df_coffee['gender'].unique()}\")\n",
        "        "
      ]
    },
    {
      "cell_type": "code",
      "execution_count": 76,
      "metadata": {
        "id": "fTC2WGE3_qRL"
      },
      "outputs": [
        {
          "name": "stdout",
          "output_type": "stream",
          "text": [
            "  CoffeeHouse  Total  Accepted  Acceptance %\n",
            "0       never    927       175         18.88\n",
            "1       less1   1075       518         48.19\n",
            "2         1~3   1042       675         64.78\n",
            "3         4~8    538       369         68.59\n",
            "4         gt8    342       225         65.79\n",
            "5     Unknown     72        33         45.83\n"
          ]
        },
        {
          "data": {
            "application/vnd.plotly.v1+json": {
              "config": {
                "plotlyServerURL": "https://plot.ly"
              },
              "data": [
                {
                  "alignmentgroup": "True",
                  "hovertemplate": "Monthly Visit Frequency=%{x}<br>Acceptance Rate (%)=%{marker.color}<extra></extra>",
                  "legendgroup": "",
                  "marker": {
                    "color": [
                      18.88,
                      48.19,
                      64.78,
                      68.59,
                      65.79,
                      45.83
                    ],
                    "coloraxis": "coloraxis",
                    "pattern": {
                      "shape": ""
                    }
                  },
                  "name": "",
                  "offsetgroup": "",
                  "orientation": "v",
                  "showlegend": false,
                  "text": [
                    18.88,
                    48.19,
                    64.78,
                    68.59,
                    65.79,
                    45.83
                  ],
                  "textposition": "inside",
                  "texttemplate": "%{text}%",
                  "type": "bar",
                  "x": [
                    "never",
                    "less1",
                    "1~3",
                    "4~8",
                    "gt8",
                    "Unknown"
                  ],
                  "xaxis": "x",
                  "y": [
                    18.88,
                    48.19,
                    64.78,
                    68.59,
                    65.79,
                    45.83
                  ],
                  "yaxis": "y"
                }
              ],
              "layout": {
                "barmode": "relative",
                "coloraxis": {
                  "colorbar": {
                    "title": {
                      "text": "Acceptance Rate (%)"
                    }
                  },
                  "colorscale": [
                    [
                      0,
                      "rgb(255,255,217)"
                    ],
                    [
                      0.125,
                      "rgb(237,248,177)"
                    ],
                    [
                      0.25,
                      "rgb(199,233,180)"
                    ],
                    [
                      0.375,
                      "rgb(127,205,187)"
                    ],
                    [
                      0.5,
                      "rgb(65,182,196)"
                    ],
                    [
                      0.625,
                      "rgb(29,145,192)"
                    ],
                    [
                      0.75,
                      "rgb(34,94,168)"
                    ],
                    [
                      0.875,
                      "rgb(37,52,148)"
                    ],
                    [
                      1,
                      "rgb(8,29,88)"
                    ]
                  ],
                  "showscale": false
                },
                "height": 400,
                "legend": {
                  "tracegroupgap": 0
                },
                "template": {
                  "data": {
                    "bar": [
                      {
                        "error_x": {
                          "color": "#2a3f5f"
                        },
                        "error_y": {
                          "color": "#2a3f5f"
                        },
                        "marker": {
                          "line": {
                            "color": "#E5ECF6",
                            "width": 0.5
                          },
                          "pattern": {
                            "fillmode": "overlay",
                            "size": 10,
                            "solidity": 0.2
                          }
                        },
                        "type": "bar"
                      }
                    ],
                    "barpolar": [
                      {
                        "marker": {
                          "line": {
                            "color": "#E5ECF6",
                            "width": 0.5
                          },
                          "pattern": {
                            "fillmode": "overlay",
                            "size": 10,
                            "solidity": 0.2
                          }
                        },
                        "type": "barpolar"
                      }
                    ],
                    "carpet": [
                      {
                        "aaxis": {
                          "endlinecolor": "#2a3f5f",
                          "gridcolor": "white",
                          "linecolor": "white",
                          "minorgridcolor": "white",
                          "startlinecolor": "#2a3f5f"
                        },
                        "baxis": {
                          "endlinecolor": "#2a3f5f",
                          "gridcolor": "white",
                          "linecolor": "white",
                          "minorgridcolor": "white",
                          "startlinecolor": "#2a3f5f"
                        },
                        "type": "carpet"
                      }
                    ],
                    "choropleth": [
                      {
                        "colorbar": {
                          "outlinewidth": 0,
                          "ticks": ""
                        },
                        "type": "choropleth"
                      }
                    ],
                    "contour": [
                      {
                        "colorbar": {
                          "outlinewidth": 0,
                          "ticks": ""
                        },
                        "colorscale": [
                          [
                            0,
                            "#0d0887"
                          ],
                          [
                            0.1111111111111111,
                            "#46039f"
                          ],
                          [
                            0.2222222222222222,
                            "#7201a8"
                          ],
                          [
                            0.3333333333333333,
                            "#9c179e"
                          ],
                          [
                            0.4444444444444444,
                            "#bd3786"
                          ],
                          [
                            0.5555555555555556,
                            "#d8576b"
                          ],
                          [
                            0.6666666666666666,
                            "#ed7953"
                          ],
                          [
                            0.7777777777777778,
                            "#fb9f3a"
                          ],
                          [
                            0.8888888888888888,
                            "#fdca26"
                          ],
                          [
                            1,
                            "#f0f921"
                          ]
                        ],
                        "type": "contour"
                      }
                    ],
                    "contourcarpet": [
                      {
                        "colorbar": {
                          "outlinewidth": 0,
                          "ticks": ""
                        },
                        "type": "contourcarpet"
                      }
                    ],
                    "heatmap": [
                      {
                        "colorbar": {
                          "outlinewidth": 0,
                          "ticks": ""
                        },
                        "colorscale": [
                          [
                            0,
                            "#0d0887"
                          ],
                          [
                            0.1111111111111111,
                            "#46039f"
                          ],
                          [
                            0.2222222222222222,
                            "#7201a8"
                          ],
                          [
                            0.3333333333333333,
                            "#9c179e"
                          ],
                          [
                            0.4444444444444444,
                            "#bd3786"
                          ],
                          [
                            0.5555555555555556,
                            "#d8576b"
                          ],
                          [
                            0.6666666666666666,
                            "#ed7953"
                          ],
                          [
                            0.7777777777777778,
                            "#fb9f3a"
                          ],
                          [
                            0.8888888888888888,
                            "#fdca26"
                          ],
                          [
                            1,
                            "#f0f921"
                          ]
                        ],
                        "type": "heatmap"
                      }
                    ],
                    "heatmapgl": [
                      {
                        "colorbar": {
                          "outlinewidth": 0,
                          "ticks": ""
                        },
                        "colorscale": [
                          [
                            0,
                            "#0d0887"
                          ],
                          [
                            0.1111111111111111,
                            "#46039f"
                          ],
                          [
                            0.2222222222222222,
                            "#7201a8"
                          ],
                          [
                            0.3333333333333333,
                            "#9c179e"
                          ],
                          [
                            0.4444444444444444,
                            "#bd3786"
                          ],
                          [
                            0.5555555555555556,
                            "#d8576b"
                          ],
                          [
                            0.6666666666666666,
                            "#ed7953"
                          ],
                          [
                            0.7777777777777778,
                            "#fb9f3a"
                          ],
                          [
                            0.8888888888888888,
                            "#fdca26"
                          ],
                          [
                            1,
                            "#f0f921"
                          ]
                        ],
                        "type": "heatmapgl"
                      }
                    ],
                    "histogram": [
                      {
                        "marker": {
                          "pattern": {
                            "fillmode": "overlay",
                            "size": 10,
                            "solidity": 0.2
                          }
                        },
                        "type": "histogram"
                      }
                    ],
                    "histogram2d": [
                      {
                        "colorbar": {
                          "outlinewidth": 0,
                          "ticks": ""
                        },
                        "colorscale": [
                          [
                            0,
                            "#0d0887"
                          ],
                          [
                            0.1111111111111111,
                            "#46039f"
                          ],
                          [
                            0.2222222222222222,
                            "#7201a8"
                          ],
                          [
                            0.3333333333333333,
                            "#9c179e"
                          ],
                          [
                            0.4444444444444444,
                            "#bd3786"
                          ],
                          [
                            0.5555555555555556,
                            "#d8576b"
                          ],
                          [
                            0.6666666666666666,
                            "#ed7953"
                          ],
                          [
                            0.7777777777777778,
                            "#fb9f3a"
                          ],
                          [
                            0.8888888888888888,
                            "#fdca26"
                          ],
                          [
                            1,
                            "#f0f921"
                          ]
                        ],
                        "type": "histogram2d"
                      }
                    ],
                    "histogram2dcontour": [
                      {
                        "colorbar": {
                          "outlinewidth": 0,
                          "ticks": ""
                        },
                        "colorscale": [
                          [
                            0,
                            "#0d0887"
                          ],
                          [
                            0.1111111111111111,
                            "#46039f"
                          ],
                          [
                            0.2222222222222222,
                            "#7201a8"
                          ],
                          [
                            0.3333333333333333,
                            "#9c179e"
                          ],
                          [
                            0.4444444444444444,
                            "#bd3786"
                          ],
                          [
                            0.5555555555555556,
                            "#d8576b"
                          ],
                          [
                            0.6666666666666666,
                            "#ed7953"
                          ],
                          [
                            0.7777777777777778,
                            "#fb9f3a"
                          ],
                          [
                            0.8888888888888888,
                            "#fdca26"
                          ],
                          [
                            1,
                            "#f0f921"
                          ]
                        ],
                        "type": "histogram2dcontour"
                      }
                    ],
                    "mesh3d": [
                      {
                        "colorbar": {
                          "outlinewidth": 0,
                          "ticks": ""
                        },
                        "type": "mesh3d"
                      }
                    ],
                    "parcoords": [
                      {
                        "line": {
                          "colorbar": {
                            "outlinewidth": 0,
                            "ticks": ""
                          }
                        },
                        "type": "parcoords"
                      }
                    ],
                    "pie": [
                      {
                        "automargin": true,
                        "type": "pie"
                      }
                    ],
                    "scatter": [
                      {
                        "fillpattern": {
                          "fillmode": "overlay",
                          "size": 10,
                          "solidity": 0.2
                        },
                        "type": "scatter"
                      }
                    ],
                    "scatter3d": [
                      {
                        "line": {
                          "colorbar": {
                            "outlinewidth": 0,
                            "ticks": ""
                          }
                        },
                        "marker": {
                          "colorbar": {
                            "outlinewidth": 0,
                            "ticks": ""
                          }
                        },
                        "type": "scatter3d"
                      }
                    ],
                    "scattercarpet": [
                      {
                        "marker": {
                          "colorbar": {
                            "outlinewidth": 0,
                            "ticks": ""
                          }
                        },
                        "type": "scattercarpet"
                      }
                    ],
                    "scattergeo": [
                      {
                        "marker": {
                          "colorbar": {
                            "outlinewidth": 0,
                            "ticks": ""
                          }
                        },
                        "type": "scattergeo"
                      }
                    ],
                    "scattergl": [
                      {
                        "marker": {
                          "colorbar": {
                            "outlinewidth": 0,
                            "ticks": ""
                          }
                        },
                        "type": "scattergl"
                      }
                    ],
                    "scattermapbox": [
                      {
                        "marker": {
                          "colorbar": {
                            "outlinewidth": 0,
                            "ticks": ""
                          }
                        },
                        "type": "scattermapbox"
                      }
                    ],
                    "scatterpolar": [
                      {
                        "marker": {
                          "colorbar": {
                            "outlinewidth": 0,
                            "ticks": ""
                          }
                        },
                        "type": "scatterpolar"
                      }
                    ],
                    "scatterpolargl": [
                      {
                        "marker": {
                          "colorbar": {
                            "outlinewidth": 0,
                            "ticks": ""
                          }
                        },
                        "type": "scatterpolargl"
                      }
                    ],
                    "scatterternary": [
                      {
                        "marker": {
                          "colorbar": {
                            "outlinewidth": 0,
                            "ticks": ""
                          }
                        },
                        "type": "scatterternary"
                      }
                    ],
                    "surface": [
                      {
                        "colorbar": {
                          "outlinewidth": 0,
                          "ticks": ""
                        },
                        "colorscale": [
                          [
                            0,
                            "#0d0887"
                          ],
                          [
                            0.1111111111111111,
                            "#46039f"
                          ],
                          [
                            0.2222222222222222,
                            "#7201a8"
                          ],
                          [
                            0.3333333333333333,
                            "#9c179e"
                          ],
                          [
                            0.4444444444444444,
                            "#bd3786"
                          ],
                          [
                            0.5555555555555556,
                            "#d8576b"
                          ],
                          [
                            0.6666666666666666,
                            "#ed7953"
                          ],
                          [
                            0.7777777777777778,
                            "#fb9f3a"
                          ],
                          [
                            0.8888888888888888,
                            "#fdca26"
                          ],
                          [
                            1,
                            "#f0f921"
                          ]
                        ],
                        "type": "surface"
                      }
                    ],
                    "table": [
                      {
                        "cells": {
                          "fill": {
                            "color": "#EBF0F8"
                          },
                          "line": {
                            "color": "white"
                          }
                        },
                        "header": {
                          "fill": {
                            "color": "#C8D4E3"
                          },
                          "line": {
                            "color": "white"
                          }
                        },
                        "type": "table"
                      }
                    ]
                  },
                  "layout": {
                    "annotationdefaults": {
                      "arrowcolor": "#2a3f5f",
                      "arrowhead": 0,
                      "arrowwidth": 1
                    },
                    "autotypenumbers": "strict",
                    "coloraxis": {
                      "colorbar": {
                        "outlinewidth": 0,
                        "ticks": ""
                      }
                    },
                    "colorscale": {
                      "diverging": [
                        [
                          0,
                          "#8e0152"
                        ],
                        [
                          0.1,
                          "#c51b7d"
                        ],
                        [
                          0.2,
                          "#de77ae"
                        ],
                        [
                          0.3,
                          "#f1b6da"
                        ],
                        [
                          0.4,
                          "#fde0ef"
                        ],
                        [
                          0.5,
                          "#f7f7f7"
                        ],
                        [
                          0.6,
                          "#e6f5d0"
                        ],
                        [
                          0.7,
                          "#b8e186"
                        ],
                        [
                          0.8,
                          "#7fbc41"
                        ],
                        [
                          0.9,
                          "#4d9221"
                        ],
                        [
                          1,
                          "#276419"
                        ]
                      ],
                      "sequential": [
                        [
                          0,
                          "#0d0887"
                        ],
                        [
                          0.1111111111111111,
                          "#46039f"
                        ],
                        [
                          0.2222222222222222,
                          "#7201a8"
                        ],
                        [
                          0.3333333333333333,
                          "#9c179e"
                        ],
                        [
                          0.4444444444444444,
                          "#bd3786"
                        ],
                        [
                          0.5555555555555556,
                          "#d8576b"
                        ],
                        [
                          0.6666666666666666,
                          "#ed7953"
                        ],
                        [
                          0.7777777777777778,
                          "#fb9f3a"
                        ],
                        [
                          0.8888888888888888,
                          "#fdca26"
                        ],
                        [
                          1,
                          "#f0f921"
                        ]
                      ],
                      "sequentialminus": [
                        [
                          0,
                          "#0d0887"
                        ],
                        [
                          0.1111111111111111,
                          "#46039f"
                        ],
                        [
                          0.2222222222222222,
                          "#7201a8"
                        ],
                        [
                          0.3333333333333333,
                          "#9c179e"
                        ],
                        [
                          0.4444444444444444,
                          "#bd3786"
                        ],
                        [
                          0.5555555555555556,
                          "#d8576b"
                        ],
                        [
                          0.6666666666666666,
                          "#ed7953"
                        ],
                        [
                          0.7777777777777778,
                          "#fb9f3a"
                        ],
                        [
                          0.8888888888888888,
                          "#fdca26"
                        ],
                        [
                          1,
                          "#f0f921"
                        ]
                      ]
                    },
                    "colorway": [
                      "#636efa",
                      "#EF553B",
                      "#00cc96",
                      "#ab63fa",
                      "#FFA15A",
                      "#19d3f3",
                      "#FF6692",
                      "#B6E880",
                      "#FF97FF",
                      "#FECB52"
                    ],
                    "font": {
                      "color": "#2a3f5f"
                    },
                    "geo": {
                      "bgcolor": "white",
                      "lakecolor": "white",
                      "landcolor": "#E5ECF6",
                      "showlakes": true,
                      "showland": true,
                      "subunitcolor": "white"
                    },
                    "hoverlabel": {
                      "align": "left"
                    },
                    "hovermode": "closest",
                    "mapbox": {
                      "style": "light"
                    },
                    "paper_bgcolor": "white",
                    "plot_bgcolor": "#E5ECF6",
                    "polar": {
                      "angularaxis": {
                        "gridcolor": "white",
                        "linecolor": "white",
                        "ticks": ""
                      },
                      "bgcolor": "#E5ECF6",
                      "radialaxis": {
                        "gridcolor": "white",
                        "linecolor": "white",
                        "ticks": ""
                      }
                    },
                    "scene": {
                      "xaxis": {
                        "backgroundcolor": "#E5ECF6",
                        "gridcolor": "white",
                        "gridwidth": 2,
                        "linecolor": "white",
                        "showbackground": true,
                        "ticks": "",
                        "zerolinecolor": "white"
                      },
                      "yaxis": {
                        "backgroundcolor": "#E5ECF6",
                        "gridcolor": "white",
                        "gridwidth": 2,
                        "linecolor": "white",
                        "showbackground": true,
                        "ticks": "",
                        "zerolinecolor": "white"
                      },
                      "zaxis": {
                        "backgroundcolor": "#E5ECF6",
                        "gridcolor": "white",
                        "gridwidth": 2,
                        "linecolor": "white",
                        "showbackground": true,
                        "ticks": "",
                        "zerolinecolor": "white"
                      }
                    },
                    "shapedefaults": {
                      "line": {
                        "color": "#2a3f5f"
                      }
                    },
                    "ternary": {
                      "aaxis": {
                        "gridcolor": "white",
                        "linecolor": "white",
                        "ticks": ""
                      },
                      "baxis": {
                        "gridcolor": "white",
                        "linecolor": "white",
                        "ticks": ""
                      },
                      "bgcolor": "#E5ECF6",
                      "caxis": {
                        "gridcolor": "white",
                        "linecolor": "white",
                        "ticks": ""
                      }
                    },
                    "title": {
                      "x": 0.05
                    },
                    "xaxis": {
                      "automargin": true,
                      "gridcolor": "white",
                      "linecolor": "white",
                      "ticks": "",
                      "title": {
                        "standoff": 15
                      },
                      "zerolinecolor": "white",
                      "zerolinewidth": 2
                    },
                    "yaxis": {
                      "automargin": true,
                      "gridcolor": "white",
                      "linecolor": "white",
                      "ticks": "",
                      "title": {
                        "standoff": 15
                      },
                      "zerolinecolor": "white",
                      "zerolinewidth": 2
                    }
                  }
                },
                "title": {
                  "text": "Coffee Coupon Acceptance by Frequency of Visit"
                },
                "uniformtext": {
                  "minsize": 8,
                  "mode": "hide"
                },
                "width": 700,
                "xaxis": {
                  "anchor": "y",
                  "categoryarray": [
                    "never",
                    "less1",
                    "1~3",
                    "4~8",
                    "gt8",
                    "Unknown"
                  ],
                  "categoryorder": "array",
                  "domain": [
                    0,
                    1
                  ],
                  "title": {
                    "text": "Monthly Visit Frequency"
                  }
                },
                "yaxis": {
                  "anchor": "x",
                  "domain": [
                    0,
                    1
                  ],
                  "range": [
                    0,
                    100
                  ],
                  "title": {
                    "text": "Acceptance Rate (%)"
                  }
                }
              }
            }
          },
          "metadata": {},
          "output_type": "display_data"
        }
      ],
      "source": [
        "#calculate acceptance %\n",
        "totals = df_coffee.groupby('CoffeeHouse')['Y'].count()\n",
        "accepted_counts = df_coffee.groupby('CoffeeHouse')['Y'].sum()\n",
        "accepted_percentage = (accepted_counts / totals * 100).round(2)\n",
        "\n",
        "coupon_acceptance = pd.DataFrame({\n",
        "    'Total': totals,\n",
        "    'Accepted': accepted_counts,\n",
        "    'Acceptance %': accepted_percentage\n",
        "}).reset_index()\n",
        "\n",
        "#order by frequency\n",
        "order = ['never', 'less1', '1~3', '4~8', 'gt8', 'Unknown']\n",
        "coupon_acceptance['CoffeeHouse'] = pd.Categorical(coupon_acceptance['CoffeeHouse'], categories=order, ordered=True)\n",
        "coupon_acceptance = coupon_acceptance.sort_values('CoffeeHouse')\n",
        "\n",
        "coupon_acceptance.reset_index(drop=True, inplace=True)\n",
        "print(coupon_acceptance.to_string())\n",
        "\n",
        "# bar chart using plotly\n",
        "fig = px.bar(\n",
        "    coupon_acceptance,\n",
        "    x='CoffeeHouse',\n",
        "    y='Acceptance %',\n",
        "    text='Acceptance %',\n",
        "    title='Coffee Coupon Acceptance by Frequency of Visit',\n",
        "    labels={'CoffeeHouse': 'Monthly Visit Frequency', 'Acceptance %': 'Acceptance Rate (%)'},\n",
        "    category_orders={'CoffeeHouse': order},\n",
        "    color='Acceptance %', \n",
        "    color_continuous_scale='YlGnBu'\n",
        ")\n",
        "\n",
        "# Show acceptance % on chart\n",
        "fig.update_traces(texttemplate='%{text}%', textposition='inside')\n",
        "\n",
        "# Update layout\n",
        "fig.update_layout(yaxis=dict(range=[0, 100]), width=700, height=400,  coloraxis_showscale=False, uniformtext_minsize=8, uniformtext_mode='hide')\n",
        "\n",
        "fig.show()"
      ]
    },
    {
      "cell_type": "code",
      "execution_count": 77,
      "metadata": {
        "id": "_oykf8YP_qRL"
      },
      "outputs": [
        {
          "data": {
            "application/vnd.plotly.v1+json": {
              "config": {
                "plotlyServerURL": "https://plot.ly"
              },
              "data": [
                {
                  "marker": {
                    "cmax": 100,
                    "cmin": 0,
                    "color": [
                      50.36,
                      52.21,
                      43.23
                    ],
                    "colorscale": [
                      [
                        0,
                        "rgb(255,255,217)"
                      ],
                      [
                        0.125,
                        "rgb(237,248,177)"
                      ],
                      [
                        0.25,
                        "rgb(199,233,180)"
                      ],
                      [
                        0.375,
                        "rgb(127,205,187)"
                      ],
                      [
                        0.5,
                        "rgb(65,182,196)"
                      ],
                      [
                        0.625,
                        "rgb(29,145,192)"
                      ],
                      [
                        0.75,
                        "rgb(34,94,168)"
                      ],
                      [
                        0.875,
                        "rgb(37,52,148)"
                      ],
                      [
                        1,
                        "rgb(8,29,88)"
                      ]
                    ]
                  },
                  "name": "Weather",
                  "text": [
                    "50.36%",
                    "52.21%",
                    "43.23%"
                  ],
                  "textposition": "outside",
                  "type": "bar",
                  "x": [
                    "Sunny",
                    "Rainy",
                    "Snowy"
                  ],
                  "xaxis": "x",
                  "y": [
                    50.36,
                    52.21,
                    43.23
                  ],
                  "yaxis": "y"
                },
                {
                  "marker": {
                    "cmax": 100,
                    "cmin": 0,
                    "color": [
                      44.58,
                      64.07,
                      54.79,
                      41.26,
                      42.42
                    ],
                    "colorscale": [
                      [
                        0,
                        "rgb(255,255,217)"
                      ],
                      [
                        0.125,
                        "rgb(237,248,177)"
                      ],
                      [
                        0.25,
                        "rgb(199,233,180)"
                      ],
                      [
                        0.375,
                        "rgb(127,205,187)"
                      ],
                      [
                        0.5,
                        "rgb(65,182,196)"
                      ],
                      [
                        0.625,
                        "rgb(29,145,192)"
                      ],
                      [
                        0.75,
                        "rgb(34,94,168)"
                      ],
                      [
                        0.875,
                        "rgb(37,52,148)"
                      ],
                      [
                        1,
                        "rgb(8,29,88)"
                      ]
                    ]
                  },
                  "name": "Time",
                  "text": [
                    "44.58%",
                    "64.07%",
                    "54.79%",
                    "41.26%",
                    "42.42%"
                  ],
                  "textposition": "outside",
                  "type": "bar",
                  "x": [
                    "7AM",
                    "10AM",
                    "2PM",
                    "6PM",
                    "10PM"
                  ],
                  "xaxis": "x2",
                  "y": [
                    44.58,
                    64.07,
                    54.79,
                    41.26,
                    42.42
                  ],
                  "yaxis": "y2"
                },
                {
                  "marker": {
                    "cmax": 100,
                    "cmin": 0,
                    "color": [
                      44.34,
                      45.58,
                      52.98
                    ],
                    "colorscale": [
                      [
                        0,
                        "rgb(255,255,217)"
                      ],
                      [
                        0.125,
                        "rgb(237,248,177)"
                      ],
                      [
                        0.25,
                        "rgb(199,233,180)"
                      ],
                      [
                        0.375,
                        "rgb(127,205,187)"
                      ],
                      [
                        0.5,
                        "rgb(65,182,196)"
                      ],
                      [
                        0.625,
                        "rgb(29,145,192)"
                      ],
                      [
                        0.75,
                        "rgb(34,94,168)"
                      ],
                      [
                        0.875,
                        "rgb(37,52,148)"
                      ],
                      [
                        1,
                        "rgb(8,29,88)"
                      ]
                    ]
                  },
                  "name": "Temperature",
                  "text": [
                    "44.34%",
                    "45.58%",
                    "52.98%"
                  ],
                  "textposition": "outside",
                  "type": "bar",
                  "x": [
                    "30",
                    "55",
                    "80"
                  ],
                  "xaxis": "x3",
                  "y": [
                    44.34,
                    45.58,
                    52.98
                  ],
                  "yaxis": "y3"
                },
                {
                  "marker": {
                    "cmax": 100,
                    "cmin": 0,
                    "color": [
                      55.19,
                      54.04,
                      47.34,
                      54.24,
                      50.36,
                      43.64,
                      29.66,
                      55.72,
                      49.44
                    ],
                    "colorscale": [
                      [
                        0,
                        "rgb(255,255,217)"
                      ],
                      [
                        0.125,
                        "rgb(237,248,177)"
                      ],
                      [
                        0.25,
                        "rgb(199,233,180)"
                      ],
                      [
                        0.375,
                        "rgb(127,205,187)"
                      ],
                      [
                        0.5,
                        "rgb(65,182,196)"
                      ],
                      [
                        0.625,
                        "rgb(29,145,192)"
                      ],
                      [
                        0.75,
                        "rgb(34,94,168)"
                      ],
                      [
                        0.875,
                        "rgb(37,52,148)"
                      ],
                      [
                        1,
                        "rgb(8,29,88)"
                      ]
                    ]
                  },
                  "name": "Income",
                  "text": [
                    "55.19%",
                    "54.04%",
                    "47.34%",
                    "54.24%",
                    "50.36%",
                    "43.64%",
                    "29.66%",
                    "55.72%",
                    "49.44%"
                  ],
                  "textposition": "outside",
                  "type": "bar",
                  "x": [
                    "Less than $12500",
                    "$12500 - $24999",
                    "$25000 - $37499",
                    "$37500 - $49999",
                    "$50000 - $62499",
                    "$62500 - $74999",
                    "$75000 - $87499",
                    "$87500 - $99999",
                    "$100000 or More"
                  ],
                  "xaxis": "x4",
                  "y": [
                    55.19,
                    54.04,
                    47.34,
                    54.24,
                    50.36,
                    43.64,
                    29.66,
                    55.72,
                    49.44
                  ],
                  "yaxis": "y4"
                },
                {
                  "marker": {
                    "cmax": 100,
                    "cmin": 0,
                    "color": [
                      69.68,
                      52.43,
                      51.48,
                      47.67,
                      46.77,
                      50.15,
                      51.36,
                      42.02
                    ],
                    "colorscale": [
                      [
                        0,
                        "rgb(255,255,217)"
                      ],
                      [
                        0.125,
                        "rgb(237,248,177)"
                      ],
                      [
                        0.25,
                        "rgb(199,233,180)"
                      ],
                      [
                        0.375,
                        "rgb(127,205,187)"
                      ],
                      [
                        0.5,
                        "rgb(65,182,196)"
                      ],
                      [
                        0.625,
                        "rgb(29,145,192)"
                      ],
                      [
                        0.75,
                        "rgb(34,94,168)"
                      ],
                      [
                        0.875,
                        "rgb(37,52,148)"
                      ],
                      [
                        1,
                        "rgb(8,29,88)"
                      ]
                    ]
                  },
                  "name": "Age",
                  "text": [
                    "69.68%",
                    "52.43%",
                    "51.48%",
                    "47.67%",
                    "46.77%",
                    "50.15%",
                    "51.36%",
                    "42.02%"
                  ],
                  "textposition": "outside",
                  "type": "bar",
                  "x": [
                    "below21",
                    "21",
                    "26",
                    "31",
                    "36",
                    "41",
                    "46",
                    "50plus"
                  ],
                  "xaxis": "x5",
                  "y": [
                    69.68,
                    52.43,
                    51.48,
                    47.67,
                    46.77,
                    50.15,
                    51.36,
                    42.02
                  ],
                  "yaxis": "y5"
                },
                {
                  "marker": {
                    "cmax": 100,
                    "cmin": 0,
                    "color": [
                      49.24,
                      50.64
                    ],
                    "colorscale": [
                      [
                        0,
                        "rgb(255,255,217)"
                      ],
                      [
                        0.125,
                        "rgb(237,248,177)"
                      ],
                      [
                        0.25,
                        "rgb(199,233,180)"
                      ],
                      [
                        0.375,
                        "rgb(127,205,187)"
                      ],
                      [
                        0.5,
                        "rgb(65,182,196)"
                      ],
                      [
                        0.625,
                        "rgb(29,145,192)"
                      ],
                      [
                        0.75,
                        "rgb(34,94,168)"
                      ],
                      [
                        0.875,
                        "rgb(37,52,148)"
                      ],
                      [
                        1,
                        "rgb(8,29,88)"
                      ]
                    ]
                  },
                  "name": "Gender",
                  "text": [
                    "49.24%",
                    "50.64%"
                  ],
                  "textposition": "outside",
                  "type": "bar",
                  "x": [
                    "Female",
                    "Male"
                  ],
                  "xaxis": "x6",
                  "y": [
                    49.24,
                    50.64
                  ],
                  "yaxis": "y6"
                },
                {
                  "marker": {
                    "cmax": 100,
                    "cmin": 0,
                    "color": [
                      58.1,
                      36.21,
                      44.58
                    ],
                    "colorscale": [
                      [
                        0,
                        "rgb(255,255,217)"
                      ],
                      [
                        0.125,
                        "rgb(237,248,177)"
                      ],
                      [
                        0.25,
                        "rgb(199,233,180)"
                      ],
                      [
                        0.375,
                        "rgb(127,205,187)"
                      ],
                      [
                        0.5,
                        "rgb(65,182,196)"
                      ],
                      [
                        0.625,
                        "rgb(29,145,192)"
                      ],
                      [
                        0.75,
                        "rgb(34,94,168)"
                      ],
                      [
                        0.875,
                        "rgb(37,52,148)"
                      ],
                      [
                        1,
                        "rgb(8,29,88)"
                      ]
                    ]
                  },
                  "name": "Destination",
                  "text": [
                    "58.1%",
                    "36.21%",
                    "44.58%"
                  ],
                  "textposition": "outside",
                  "type": "bar",
                  "x": [
                    "No Urgent Place",
                    "Home",
                    "Work"
                  ],
                  "xaxis": "x7",
                  "y": [
                    58.1,
                    36.21,
                    44.58
                  ],
                  "yaxis": "y7"
                },
                {
                  "marker": {
                    "cmax": 100,
                    "cmin": 0,
                    "color": [
                      49.2,
                      53.07
                    ],
                    "colorscale": [
                      [
                        0,
                        "rgb(255,255,217)"
                      ],
                      [
                        0.125,
                        "rgb(237,248,177)"
                      ],
                      [
                        0.25,
                        "rgb(199,233,180)"
                      ],
                      [
                        0.375,
                        "rgb(127,205,187)"
                      ],
                      [
                        0.5,
                        "rgb(65,182,196)"
                      ],
                      [
                        0.625,
                        "rgb(29,145,192)"
                      ],
                      [
                        0.75,
                        "rgb(34,94,168)"
                      ],
                      [
                        0.875,
                        "rgb(37,52,148)"
                      ],
                      [
                        1,
                        "rgb(8,29,88)"
                      ]
                    ]
                  },
                  "name": "Direction",
                  "text": [
                    "49.2%",
                    "53.07%"
                  ],
                  "textposition": "outside",
                  "type": "bar",
                  "x": [
                    "0",
                    "1"
                  ],
                  "xaxis": "x8",
                  "y": [
                    49.2,
                    53.07
                  ],
                  "yaxis": "y8"
                },
                {
                  "marker": {
                    "cmax": 100,
                    "cmin": 0,
                    "color": [
                      43.2,
                      58.39
                    ],
                    "colorscale": [
                      [
                        0,
                        "rgb(255,255,217)"
                      ],
                      [
                        0.125,
                        "rgb(237,248,177)"
                      ],
                      [
                        0.25,
                        "rgb(199,233,180)"
                      ],
                      [
                        0.375,
                        "rgb(127,205,187)"
                      ],
                      [
                        0.5,
                        "rgb(65,182,196)"
                      ],
                      [
                        0.625,
                        "rgb(29,145,192)"
                      ],
                      [
                        0.75,
                        "rgb(34,94,168)"
                      ],
                      [
                        0.875,
                        "rgb(37,52,148)"
                      ],
                      [
                        1,
                        "rgb(8,29,88)"
                      ]
                    ]
                  },
                  "name": "Expiration",
                  "text": [
                    "43.2%",
                    "58.39%"
                  ],
                  "textposition": "outside",
                  "type": "bar",
                  "x": [
                    "2h",
                    "1d"
                  ],
                  "xaxis": "x9",
                  "y": [
                    43.2,
                    58.39
                  ],
                  "yaxis": "y9"
                }
              ],
              "layout": {
                "annotations": [
                  {
                    "font": {
                      "size": 16
                    },
                    "showarrow": false,
                    "text": "Acceptance by Weather",
                    "x": 0.14444444444444446,
                    "xanchor": "center",
                    "xref": "paper",
                    "y": 1,
                    "yanchor": "bottom",
                    "yref": "paper"
                  },
                  {
                    "font": {
                      "size": 16
                    },
                    "showarrow": false,
                    "text": "Acceptance by Time",
                    "x": 0.5,
                    "xanchor": "center",
                    "xref": "paper",
                    "y": 1,
                    "yanchor": "bottom",
                    "yref": "paper"
                  },
                  {
                    "font": {
                      "size": 16
                    },
                    "showarrow": false,
                    "text": "Acceptance by Temperature",
                    "x": 0.8555555555555556,
                    "xanchor": "center",
                    "xref": "paper",
                    "y": 1,
                    "yanchor": "bottom",
                    "yref": "paper"
                  },
                  {
                    "font": {
                      "size": 16
                    },
                    "showarrow": false,
                    "text": "Acceptance by Income",
                    "x": 0.14444444444444446,
                    "xanchor": "center",
                    "xref": "paper",
                    "y": 0.6111111111111112,
                    "yanchor": "bottom",
                    "yref": "paper"
                  },
                  {
                    "font": {
                      "size": 16
                    },
                    "showarrow": false,
                    "text": "Acceptance by Age",
                    "x": 0.5,
                    "xanchor": "center",
                    "xref": "paper",
                    "y": 0.6111111111111112,
                    "yanchor": "bottom",
                    "yref": "paper"
                  },
                  {
                    "font": {
                      "size": 16
                    },
                    "showarrow": false,
                    "text": "Acceptance by Gender",
                    "x": 0.8555555555555556,
                    "xanchor": "center",
                    "xref": "paper",
                    "y": 0.6111111111111112,
                    "yanchor": "bottom",
                    "yref": "paper"
                  },
                  {
                    "font": {
                      "size": 16
                    },
                    "showarrow": false,
                    "text": "Acceptance by Destination",
                    "x": 0.14444444444444446,
                    "xanchor": "center",
                    "xref": "paper",
                    "y": 0.22222222222222224,
                    "yanchor": "bottom",
                    "yref": "paper"
                  },
                  {
                    "font": {
                      "size": 16
                    },
                    "showarrow": false,
                    "text": "Acceptance by Same Direction",
                    "x": 0.5,
                    "xanchor": "center",
                    "xref": "paper",
                    "y": 0.22222222222222224,
                    "yanchor": "bottom",
                    "yref": "paper"
                  },
                  {
                    "font": {
                      "size": 16
                    },
                    "showarrow": false,
                    "text": "Acceptance by Expiration",
                    "x": 0.8555555555555556,
                    "xanchor": "center",
                    "xref": "paper",
                    "y": 0.22222222222222224,
                    "yanchor": "bottom",
                    "yref": "paper"
                  }
                ],
                "height": 900,
                "margin": {
                  "b": 80,
                  "l": 40,
                  "r": 20,
                  "t": 80
                },
                "showlegend": false,
                "template": {
                  "data": {
                    "bar": [
                      {
                        "error_x": {
                          "color": "#2a3f5f"
                        },
                        "error_y": {
                          "color": "#2a3f5f"
                        },
                        "marker": {
                          "line": {
                            "color": "#E5ECF6",
                            "width": 0.5
                          },
                          "pattern": {
                            "fillmode": "overlay",
                            "size": 10,
                            "solidity": 0.2
                          }
                        },
                        "type": "bar"
                      }
                    ],
                    "barpolar": [
                      {
                        "marker": {
                          "line": {
                            "color": "#E5ECF6",
                            "width": 0.5
                          },
                          "pattern": {
                            "fillmode": "overlay",
                            "size": 10,
                            "solidity": 0.2
                          }
                        },
                        "type": "barpolar"
                      }
                    ],
                    "carpet": [
                      {
                        "aaxis": {
                          "endlinecolor": "#2a3f5f",
                          "gridcolor": "white",
                          "linecolor": "white",
                          "minorgridcolor": "white",
                          "startlinecolor": "#2a3f5f"
                        },
                        "baxis": {
                          "endlinecolor": "#2a3f5f",
                          "gridcolor": "white",
                          "linecolor": "white",
                          "minorgridcolor": "white",
                          "startlinecolor": "#2a3f5f"
                        },
                        "type": "carpet"
                      }
                    ],
                    "choropleth": [
                      {
                        "colorbar": {
                          "outlinewidth": 0,
                          "ticks": ""
                        },
                        "type": "choropleth"
                      }
                    ],
                    "contour": [
                      {
                        "colorbar": {
                          "outlinewidth": 0,
                          "ticks": ""
                        },
                        "colorscale": [
                          [
                            0,
                            "#0d0887"
                          ],
                          [
                            0.1111111111111111,
                            "#46039f"
                          ],
                          [
                            0.2222222222222222,
                            "#7201a8"
                          ],
                          [
                            0.3333333333333333,
                            "#9c179e"
                          ],
                          [
                            0.4444444444444444,
                            "#bd3786"
                          ],
                          [
                            0.5555555555555556,
                            "#d8576b"
                          ],
                          [
                            0.6666666666666666,
                            "#ed7953"
                          ],
                          [
                            0.7777777777777778,
                            "#fb9f3a"
                          ],
                          [
                            0.8888888888888888,
                            "#fdca26"
                          ],
                          [
                            1,
                            "#f0f921"
                          ]
                        ],
                        "type": "contour"
                      }
                    ],
                    "contourcarpet": [
                      {
                        "colorbar": {
                          "outlinewidth": 0,
                          "ticks": ""
                        },
                        "type": "contourcarpet"
                      }
                    ],
                    "heatmap": [
                      {
                        "colorbar": {
                          "outlinewidth": 0,
                          "ticks": ""
                        },
                        "colorscale": [
                          [
                            0,
                            "#0d0887"
                          ],
                          [
                            0.1111111111111111,
                            "#46039f"
                          ],
                          [
                            0.2222222222222222,
                            "#7201a8"
                          ],
                          [
                            0.3333333333333333,
                            "#9c179e"
                          ],
                          [
                            0.4444444444444444,
                            "#bd3786"
                          ],
                          [
                            0.5555555555555556,
                            "#d8576b"
                          ],
                          [
                            0.6666666666666666,
                            "#ed7953"
                          ],
                          [
                            0.7777777777777778,
                            "#fb9f3a"
                          ],
                          [
                            0.8888888888888888,
                            "#fdca26"
                          ],
                          [
                            1,
                            "#f0f921"
                          ]
                        ],
                        "type": "heatmap"
                      }
                    ],
                    "heatmapgl": [
                      {
                        "colorbar": {
                          "outlinewidth": 0,
                          "ticks": ""
                        },
                        "colorscale": [
                          [
                            0,
                            "#0d0887"
                          ],
                          [
                            0.1111111111111111,
                            "#46039f"
                          ],
                          [
                            0.2222222222222222,
                            "#7201a8"
                          ],
                          [
                            0.3333333333333333,
                            "#9c179e"
                          ],
                          [
                            0.4444444444444444,
                            "#bd3786"
                          ],
                          [
                            0.5555555555555556,
                            "#d8576b"
                          ],
                          [
                            0.6666666666666666,
                            "#ed7953"
                          ],
                          [
                            0.7777777777777778,
                            "#fb9f3a"
                          ],
                          [
                            0.8888888888888888,
                            "#fdca26"
                          ],
                          [
                            1,
                            "#f0f921"
                          ]
                        ],
                        "type": "heatmapgl"
                      }
                    ],
                    "histogram": [
                      {
                        "marker": {
                          "pattern": {
                            "fillmode": "overlay",
                            "size": 10,
                            "solidity": 0.2
                          }
                        },
                        "type": "histogram"
                      }
                    ],
                    "histogram2d": [
                      {
                        "colorbar": {
                          "outlinewidth": 0,
                          "ticks": ""
                        },
                        "colorscale": [
                          [
                            0,
                            "#0d0887"
                          ],
                          [
                            0.1111111111111111,
                            "#46039f"
                          ],
                          [
                            0.2222222222222222,
                            "#7201a8"
                          ],
                          [
                            0.3333333333333333,
                            "#9c179e"
                          ],
                          [
                            0.4444444444444444,
                            "#bd3786"
                          ],
                          [
                            0.5555555555555556,
                            "#d8576b"
                          ],
                          [
                            0.6666666666666666,
                            "#ed7953"
                          ],
                          [
                            0.7777777777777778,
                            "#fb9f3a"
                          ],
                          [
                            0.8888888888888888,
                            "#fdca26"
                          ],
                          [
                            1,
                            "#f0f921"
                          ]
                        ],
                        "type": "histogram2d"
                      }
                    ],
                    "histogram2dcontour": [
                      {
                        "colorbar": {
                          "outlinewidth": 0,
                          "ticks": ""
                        },
                        "colorscale": [
                          [
                            0,
                            "#0d0887"
                          ],
                          [
                            0.1111111111111111,
                            "#46039f"
                          ],
                          [
                            0.2222222222222222,
                            "#7201a8"
                          ],
                          [
                            0.3333333333333333,
                            "#9c179e"
                          ],
                          [
                            0.4444444444444444,
                            "#bd3786"
                          ],
                          [
                            0.5555555555555556,
                            "#d8576b"
                          ],
                          [
                            0.6666666666666666,
                            "#ed7953"
                          ],
                          [
                            0.7777777777777778,
                            "#fb9f3a"
                          ],
                          [
                            0.8888888888888888,
                            "#fdca26"
                          ],
                          [
                            1,
                            "#f0f921"
                          ]
                        ],
                        "type": "histogram2dcontour"
                      }
                    ],
                    "mesh3d": [
                      {
                        "colorbar": {
                          "outlinewidth": 0,
                          "ticks": ""
                        },
                        "type": "mesh3d"
                      }
                    ],
                    "parcoords": [
                      {
                        "line": {
                          "colorbar": {
                            "outlinewidth": 0,
                            "ticks": ""
                          }
                        },
                        "type": "parcoords"
                      }
                    ],
                    "pie": [
                      {
                        "automargin": true,
                        "type": "pie"
                      }
                    ],
                    "scatter": [
                      {
                        "fillpattern": {
                          "fillmode": "overlay",
                          "size": 10,
                          "solidity": 0.2
                        },
                        "type": "scatter"
                      }
                    ],
                    "scatter3d": [
                      {
                        "line": {
                          "colorbar": {
                            "outlinewidth": 0,
                            "ticks": ""
                          }
                        },
                        "marker": {
                          "colorbar": {
                            "outlinewidth": 0,
                            "ticks": ""
                          }
                        },
                        "type": "scatter3d"
                      }
                    ],
                    "scattercarpet": [
                      {
                        "marker": {
                          "colorbar": {
                            "outlinewidth": 0,
                            "ticks": ""
                          }
                        },
                        "type": "scattercarpet"
                      }
                    ],
                    "scattergeo": [
                      {
                        "marker": {
                          "colorbar": {
                            "outlinewidth": 0,
                            "ticks": ""
                          }
                        },
                        "type": "scattergeo"
                      }
                    ],
                    "scattergl": [
                      {
                        "marker": {
                          "colorbar": {
                            "outlinewidth": 0,
                            "ticks": ""
                          }
                        },
                        "type": "scattergl"
                      }
                    ],
                    "scattermapbox": [
                      {
                        "marker": {
                          "colorbar": {
                            "outlinewidth": 0,
                            "ticks": ""
                          }
                        },
                        "type": "scattermapbox"
                      }
                    ],
                    "scatterpolar": [
                      {
                        "marker": {
                          "colorbar": {
                            "outlinewidth": 0,
                            "ticks": ""
                          }
                        },
                        "type": "scatterpolar"
                      }
                    ],
                    "scatterpolargl": [
                      {
                        "marker": {
                          "colorbar": {
                            "outlinewidth": 0,
                            "ticks": ""
                          }
                        },
                        "type": "scatterpolargl"
                      }
                    ],
                    "scatterternary": [
                      {
                        "marker": {
                          "colorbar": {
                            "outlinewidth": 0,
                            "ticks": ""
                          }
                        },
                        "type": "scatterternary"
                      }
                    ],
                    "surface": [
                      {
                        "colorbar": {
                          "outlinewidth": 0,
                          "ticks": ""
                        },
                        "colorscale": [
                          [
                            0,
                            "#0d0887"
                          ],
                          [
                            0.1111111111111111,
                            "#46039f"
                          ],
                          [
                            0.2222222222222222,
                            "#7201a8"
                          ],
                          [
                            0.3333333333333333,
                            "#9c179e"
                          ],
                          [
                            0.4444444444444444,
                            "#bd3786"
                          ],
                          [
                            0.5555555555555556,
                            "#d8576b"
                          ],
                          [
                            0.6666666666666666,
                            "#ed7953"
                          ],
                          [
                            0.7777777777777778,
                            "#fb9f3a"
                          ],
                          [
                            0.8888888888888888,
                            "#fdca26"
                          ],
                          [
                            1,
                            "#f0f921"
                          ]
                        ],
                        "type": "surface"
                      }
                    ],
                    "table": [
                      {
                        "cells": {
                          "fill": {
                            "color": "#EBF0F8"
                          },
                          "line": {
                            "color": "white"
                          }
                        },
                        "header": {
                          "fill": {
                            "color": "#C8D4E3"
                          },
                          "line": {
                            "color": "white"
                          }
                        },
                        "type": "table"
                      }
                    ]
                  },
                  "layout": {
                    "annotationdefaults": {
                      "arrowcolor": "#2a3f5f",
                      "arrowhead": 0,
                      "arrowwidth": 1
                    },
                    "autotypenumbers": "strict",
                    "coloraxis": {
                      "colorbar": {
                        "outlinewidth": 0,
                        "ticks": ""
                      }
                    },
                    "colorscale": {
                      "diverging": [
                        [
                          0,
                          "#8e0152"
                        ],
                        [
                          0.1,
                          "#c51b7d"
                        ],
                        [
                          0.2,
                          "#de77ae"
                        ],
                        [
                          0.3,
                          "#f1b6da"
                        ],
                        [
                          0.4,
                          "#fde0ef"
                        ],
                        [
                          0.5,
                          "#f7f7f7"
                        ],
                        [
                          0.6,
                          "#e6f5d0"
                        ],
                        [
                          0.7,
                          "#b8e186"
                        ],
                        [
                          0.8,
                          "#7fbc41"
                        ],
                        [
                          0.9,
                          "#4d9221"
                        ],
                        [
                          1,
                          "#276419"
                        ]
                      ],
                      "sequential": [
                        [
                          0,
                          "#0d0887"
                        ],
                        [
                          0.1111111111111111,
                          "#46039f"
                        ],
                        [
                          0.2222222222222222,
                          "#7201a8"
                        ],
                        [
                          0.3333333333333333,
                          "#9c179e"
                        ],
                        [
                          0.4444444444444444,
                          "#bd3786"
                        ],
                        [
                          0.5555555555555556,
                          "#d8576b"
                        ],
                        [
                          0.6666666666666666,
                          "#ed7953"
                        ],
                        [
                          0.7777777777777778,
                          "#fb9f3a"
                        ],
                        [
                          0.8888888888888888,
                          "#fdca26"
                        ],
                        [
                          1,
                          "#f0f921"
                        ]
                      ],
                      "sequentialminus": [
                        [
                          0,
                          "#0d0887"
                        ],
                        [
                          0.1111111111111111,
                          "#46039f"
                        ],
                        [
                          0.2222222222222222,
                          "#7201a8"
                        ],
                        [
                          0.3333333333333333,
                          "#9c179e"
                        ],
                        [
                          0.4444444444444444,
                          "#bd3786"
                        ],
                        [
                          0.5555555555555556,
                          "#d8576b"
                        ],
                        [
                          0.6666666666666666,
                          "#ed7953"
                        ],
                        [
                          0.7777777777777778,
                          "#fb9f3a"
                        ],
                        [
                          0.8888888888888888,
                          "#fdca26"
                        ],
                        [
                          1,
                          "#f0f921"
                        ]
                      ]
                    },
                    "colorway": [
                      "#636efa",
                      "#EF553B",
                      "#00cc96",
                      "#ab63fa",
                      "#FFA15A",
                      "#19d3f3",
                      "#FF6692",
                      "#B6E880",
                      "#FF97FF",
                      "#FECB52"
                    ],
                    "font": {
                      "color": "#2a3f5f"
                    },
                    "geo": {
                      "bgcolor": "white",
                      "lakecolor": "white",
                      "landcolor": "#E5ECF6",
                      "showlakes": true,
                      "showland": true,
                      "subunitcolor": "white"
                    },
                    "hoverlabel": {
                      "align": "left"
                    },
                    "hovermode": "closest",
                    "mapbox": {
                      "style": "light"
                    },
                    "paper_bgcolor": "white",
                    "plot_bgcolor": "#E5ECF6",
                    "polar": {
                      "angularaxis": {
                        "gridcolor": "white",
                        "linecolor": "white",
                        "ticks": ""
                      },
                      "bgcolor": "#E5ECF6",
                      "radialaxis": {
                        "gridcolor": "white",
                        "linecolor": "white",
                        "ticks": ""
                      }
                    },
                    "scene": {
                      "xaxis": {
                        "backgroundcolor": "#E5ECF6",
                        "gridcolor": "white",
                        "gridwidth": 2,
                        "linecolor": "white",
                        "showbackground": true,
                        "ticks": "",
                        "zerolinecolor": "white"
                      },
                      "yaxis": {
                        "backgroundcolor": "#E5ECF6",
                        "gridcolor": "white",
                        "gridwidth": 2,
                        "linecolor": "white",
                        "showbackground": true,
                        "ticks": "",
                        "zerolinecolor": "white"
                      },
                      "zaxis": {
                        "backgroundcolor": "#E5ECF6",
                        "gridcolor": "white",
                        "gridwidth": 2,
                        "linecolor": "white",
                        "showbackground": true,
                        "ticks": "",
                        "zerolinecolor": "white"
                      }
                    },
                    "shapedefaults": {
                      "line": {
                        "color": "#2a3f5f"
                      }
                    },
                    "ternary": {
                      "aaxis": {
                        "gridcolor": "white",
                        "linecolor": "white",
                        "ticks": ""
                      },
                      "baxis": {
                        "gridcolor": "white",
                        "linecolor": "white",
                        "ticks": ""
                      },
                      "bgcolor": "#E5ECF6",
                      "caxis": {
                        "gridcolor": "white",
                        "linecolor": "white",
                        "ticks": ""
                      }
                    },
                    "title": {
                      "x": 0.05
                    },
                    "xaxis": {
                      "automargin": true,
                      "gridcolor": "white",
                      "linecolor": "white",
                      "ticks": "",
                      "title": {
                        "standoff": 15
                      },
                      "zerolinecolor": "white",
                      "zerolinewidth": 2
                    },
                    "yaxis": {
                      "automargin": true,
                      "gridcolor": "white",
                      "linecolor": "white",
                      "ticks": "",
                      "title": {
                        "standoff": 15
                      },
                      "zerolinecolor": "white",
                      "zerolinewidth": 2
                    }
                  }
                },
                "title": {
                  "text": "Coffee Coupon Acceptance by Context and Demographics"
                },
                "uniformtext": {
                  "minsize": 8,
                  "mode": "hide"
                },
                "width": 1200,
                "xaxis": {
                  "anchor": "y",
                  "domain": [
                    0,
                    0.2888888888888889
                  ]
                },
                "xaxis2": {
                  "anchor": "y2",
                  "domain": [
                    0.35555555555555557,
                    0.6444444444444445
                  ]
                },
                "xaxis3": {
                  "anchor": "y3",
                  "domain": [
                    0.7111111111111111,
                    1
                  ]
                },
                "xaxis4": {
                  "anchor": "y4",
                  "domain": [
                    0,
                    0.2888888888888889
                  ]
                },
                "xaxis5": {
                  "anchor": "y5",
                  "domain": [
                    0.35555555555555557,
                    0.6444444444444445
                  ]
                },
                "xaxis6": {
                  "anchor": "y6",
                  "domain": [
                    0.7111111111111111,
                    1
                  ]
                },
                "xaxis7": {
                  "anchor": "y7",
                  "domain": [
                    0,
                    0.2888888888888889
                  ]
                },
                "xaxis8": {
                  "anchor": "y8",
                  "domain": [
                    0.35555555555555557,
                    0.6444444444444445
                  ]
                },
                "xaxis9": {
                  "anchor": "y9",
                  "domain": [
                    0.7111111111111111,
                    1
                  ]
                },
                "yaxis": {
                  "anchor": "x",
                  "domain": [
                    0.7777777777777778,
                    1
                  ],
                  "range": [
                    0,
                    100
                  ],
                  "title": {
                    "text": "Acceptance Rate (%)"
                  }
                },
                "yaxis2": {
                  "anchor": "x2",
                  "domain": [
                    0.7777777777777778,
                    1
                  ],
                  "matches": "y",
                  "range": [
                    0,
                    100
                  ],
                  "showticklabels": false,
                  "title": {
                    "text": "Acceptance Rate (%)"
                  }
                },
                "yaxis3": {
                  "anchor": "x3",
                  "domain": [
                    0.7777777777777778,
                    1
                  ],
                  "matches": "y",
                  "range": [
                    0,
                    100
                  ],
                  "showticklabels": false,
                  "title": {
                    "text": "Acceptance Rate (%)"
                  }
                },
                "yaxis4": {
                  "anchor": "x4",
                  "domain": [
                    0.3888888888888889,
                    0.6111111111111112
                  ],
                  "range": [
                    0,
                    100
                  ],
                  "title": {
                    "text": "Acceptance Rate (%)"
                  }
                },
                "yaxis5": {
                  "anchor": "x5",
                  "domain": [
                    0.3888888888888889,
                    0.6111111111111112
                  ],
                  "matches": "y4",
                  "range": [
                    0,
                    100
                  ],
                  "showticklabels": false,
                  "title": {
                    "text": "Acceptance Rate (%)"
                  }
                },
                "yaxis6": {
                  "anchor": "x6",
                  "domain": [
                    0.3888888888888889,
                    0.6111111111111112
                  ],
                  "matches": "y4",
                  "range": [
                    0,
                    100
                  ],
                  "showticklabels": false,
                  "title": {
                    "text": "Acceptance Rate (%)"
                  }
                },
                "yaxis7": {
                  "anchor": "x7",
                  "domain": [
                    0,
                    0.22222222222222224
                  ],
                  "range": [
                    0,
                    100
                  ],
                  "title": {
                    "text": "Acceptance Rate (%)"
                  }
                },
                "yaxis8": {
                  "anchor": "x8",
                  "domain": [
                    0,
                    0.22222222222222224
                  ],
                  "matches": "y7",
                  "range": [
                    0,
                    100
                  ],
                  "showticklabels": false,
                  "title": {
                    "text": "Acceptance Rate (%)"
                  }
                },
                "yaxis9": {
                  "anchor": "x9",
                  "domain": [
                    0,
                    0.22222222222222224
                  ],
                  "matches": "y7",
                  "range": [
                    0,
                    100
                  ],
                  "showticklabels": false,
                  "title": {
                    "text": "Acceptance Rate (%)"
                  }
                }
              }
            }
          },
          "metadata": {},
          "output_type": "display_data"
        }
      ],
      "source": [
        "# Coffee House coupons only\n",
        "df_coffee = data.query(\"coupon == 'Coffee House'\").copy()\n",
        "\n",
        "# func to calculate coupon acceptance \n",
        "def coupon_acceptance(df, col, order=None):\n",
        "    totals = df.groupby(col)['Y'].count()\n",
        "    accepted_counts = df.groupby(col)['Y'].sum()\n",
        "    accepted_percentage = (accepted_counts / totals * 100).round(2)\n",
        "\n",
        "    acceptance = pd.DataFrame({\n",
        "        col: totals.index,\n",
        "        'Total': totals.values,\n",
        "        'Accepted': accepted_counts.values,\n",
        "        'Acceptance %': accepted_percentage.values\n",
        "    })\n",
        "    #reorder  \n",
        "    if order is not None:\n",
        "        acceptance[col] = pd.Categorical(acceptance[col], categories=order, ordered=True)\n",
        "        acceptance = acceptance.sort_values(col)\n",
        "\n",
        "    return acceptance\n",
        "\n",
        "# set order of values\n",
        "weather_order = ['Sunny', 'Rainy', 'Snowy']\n",
        "time_order    = ['7AM', '10AM', '2PM', '6PM', '10PM']\n",
        "temp_order    = [30, 55, 80]\n",
        "income_order = [ \n",
        "    'Less than $12500',\n",
        "    '$12500 - $24999',\n",
        "    '$25000 - $37499',\n",
        "    '$37500 - $49999',\n",
        "    '$50000 - $62499',\n",
        "    '$62500 - $74999',\n",
        "    '$75000 - $87499',\n",
        "    '$87500 - $99999',\n",
        "    '$100000 or More'\n",
        "]\n",
        "age_order     = ['below21', '21', '26', '31', '36', '41', '46', '50plus']\n",
        "destination_order = ['No Urgent Place', 'Home', 'Work']\n",
        "gender_order  = ['Female', 'Male']\n",
        "expiration_order  = ['2h', '1d']\n",
        "\n",
        "# Calculate acceptance for each subplot\n",
        "coupon_acceptance_weather = coupon_acceptance(df_coffee, 'weather', weather_order)\n",
        "coupon_acceptance_time = coupon_acceptance(df_coffee, 'time', time_order)\n",
        "coupon_acceptance_temp = coupon_acceptance(df_coffee, 'temperature', temp_order)\n",
        "coupon_acceptance_income = coupon_acceptance(df_coffee, 'income', income_order)\n",
        "coupon_acceptance_age = coupon_acceptance(df_coffee, 'age', age_order)\n",
        "coupon_acceptance_gender = coupon_acceptance(df_coffee, 'gender', gender_order)\n",
        "coupon_acceptance_destination = coupon_acceptance(df_coffee, 'destination', destination_order)\n",
        "coupon_acceptance_direction = coupon_acceptance(df_coffee, 'direction_same')\n",
        "coupon_acceptance_expiration = coupon_acceptance(df_coffee, 'expiration', expiration_order)\n",
        "\n",
        "# Create the subplots\n",
        "fig = make_subplots(\n",
        "    rows=3, cols=3, shared_yaxes=True,\n",
        "    subplot_titles=(\n",
        "        \"Acceptance by Weather\", \"Acceptance by Time\", \"Acceptance by Temperature\",\n",
        "        \"Acceptance by Income\", \"Acceptance by Age\", \"Acceptance by Gender\",\n",
        "        \"Acceptance by Destination\", \"Acceptance by Same Direction\", \"Acceptance by Expiration\"\n",
        "    )\n",
        ")\n",
        "\n",
        "# Shared color range\n",
        "#color_min, color_max = 0, 100\n",
        "\n",
        "def add_bar_chart(df, xcol, row, col, name):\n",
        "    fig.add_trace(\n",
        "        go.Bar(\n",
        "            x=df[xcol].astype(str),\n",
        "            y=df['Acceptance %'],\n",
        "            text=df['Acceptance %'].astype(str) + '%',\n",
        "            textposition='outside',\n",
        "            name=name,\n",
        "            marker=dict(\n",
        "                color=df['Acceptance %'],\n",
        "                colorscale='YlGnBu',\n",
        "                cmin=0,\n",
        "                cmax=100\n",
        "            )\n",
        "        ),\n",
        "        row=row, col=col\n",
        "    )\n",
        "\n",
        "# First row of charts\n",
        "add_bar_chart(coupon_acceptance_weather, 'weather', 1, 1, 'Weather')\n",
        "add_bar_chart(coupon_acceptance_time, 'time', 1, 2, 'Time')\n",
        "add_bar_chart(coupon_acceptance_temp, 'temperature', 1, 3, 'Temperature')\n",
        "\n",
        "# Second row of charts\n",
        "add_bar_chart(coupon_acceptance_income, 'income', 2, 1, 'Income')\n",
        "add_bar_chart(coupon_acceptance_age, 'age', 2, 2, 'Age')\n",
        "add_bar_chart(coupon_acceptance_gender, 'gender', 2, 3, 'Gender')\n",
        "\n",
        "# Third row of charts\n",
        "add_bar_chart(coupon_acceptance_destination, 'destination', 3, 1, 'Destination')\n",
        "add_bar_chart(coupon_acceptance_direction, 'direction_same', 3, 2, 'Direction')\n",
        "add_bar_chart(coupon_acceptance_expiration, 'expiration', 3, 3, 'Expiration')\n",
        "\n",
        "# Layout\n",
        "fig.update_layout(\n",
        "    title_text=\"Coffee Coupon Acceptance by Context and Demographics\",\n",
        "    height=900, width=1200, showlegend=False,\n",
        "    uniformtext_minsize=8, uniformtext_mode='hide',\n",
        "    margin=dict(t=80, l=40, r=20, b=80)\n",
        ")\n",
        "\n",
        "# Y-axis for all\n",
        "for r in range(1, 4):\n",
        "    for c in range(1, 4):\n",
        "        fig.update_yaxes(range=[0, 100], title_text=\"Acceptance Rate (%)\", row=r, col=c)\n",
        "\n",
        "fig.show()\n"
      ]
    },
    {
      "cell_type": "markdown",
      "metadata": {},
      "source": [
        "**Summary of Coffee House Coupon Analysis**\n",
        "\n",
        "- Overall acceptance of Coffee House coupon is 50%, slightly higher than the 41% acceptance of bar coupons\n",
        "- Drivers who visit coffee house at least once a month have higher acceptance rate compared to those who never visit. \n",
        "- Increasing visit frequency beyond once a month does not significantly increase acceptance \n",
        "  - 1 to 3 times: 65%\n",
        "  - 4 to 8 times 69%\n",
        "  - More than 8 time:66% \n",
        "- Weather and temperature show minimal impact on acceptance rate\n",
        "- Destination has an impact on acceptance -  \n",
        "   - Without urgency show higher acceptance (58%) \n",
        "   - Heading home (36%) \n",
        "   - Heading to work (45%)\n",
        "- Age is an important factor, younger drivers especially those below 21 have the highest acceptance rate (70%), while 50+ group has lowest (42%)\n",
        "\n",
        "Driver's life style and habits, especially frequency of visits and age are primary determinants of Coffee House coupon acceptance. Environmental factors does not have much influence on acceptance rate. Urgency of travel have some moderate impact on acceptance rate.\n",
        "\n",
        "Next steps:\n",
        "To increase acceptance rate, focus on drivers who already visit coffee houses regularly. Additionally, Target younger drivers and those without urgent travel plans.   \n"
      ]
    }
  ],
  "metadata": {
    "colab": {
      "provenance": []
    },
    "kernelspec": {
      "display_name": "base",
      "language": "python",
      "name": "python3"
    },
    "language_info": {
      "codemirror_mode": {
        "name": "ipython",
        "version": 3
      },
      "file_extension": ".py",
      "mimetype": "text/x-python",
      "name": "python",
      "nbconvert_exporter": "python",
      "pygments_lexer": "ipython3",
      "version": "3.13.5"
    }
  },
  "nbformat": 4,
  "nbformat_minor": 0
}
